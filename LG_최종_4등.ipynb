{
  "cells": [
    {
      "cell_type": "markdown",
      "id": "017e9265",
      "metadata": {
        "id": "017e9265"
      },
      "source": [
        "# 제품 이상여부 판별 프로젝트 (본선)\n"
      ]
    },
    {
      "cell_type": "markdown",
      "id": "acdab431",
      "metadata": {
        "id": "acdab431"
      },
      "source": [
        "## 1. 데이터 불러오기\n"
      ]
    },
    {
      "cell_type": "markdown",
      "id": "2b8341e8",
      "metadata": {
        "id": "2b8341e8"
      },
      "source": [
        "### 필수 라이브러리\n"
      ]
    },
    {
      "cell_type": "code",
      "execution_count": null,
      "id": "a315cc58",
      "metadata": {
        "id": "a315cc58",
        "outputId": "c972fba9-022e-4490-b8fd-39a6daa13c0d"
      },
      "outputs": [
        {
          "name": "stdout",
          "output_type": "stream",
          "text": [
            "Defaulting to user installation because normal site-packages is not writeable\n",
            "Collecting catboost\n",
            "  Downloading catboost-1.2.7-cp310-cp310-manylinux2014_x86_64.whl (98.7 MB)\n",
            "\u001b[2K     \u001b[90m━━━━━━━━━━━━━━━━━━━━━━━━━━━━━━━━━━━━━━━━\u001b[0m \u001b[32m98.7/98.7 MB\u001b[0m \u001b[31m10.0 MB/s\u001b[0m eta \u001b[36m0:00:00\u001b[0m00:01\u001b[0m00:01\u001b[0m\n",
            "\u001b[?25hCollecting plotly\n",
            "  Downloading plotly-5.24.1-py3-none-any.whl (19.1 MB)\n",
            "\u001b[2K     \u001b[90m━━━━━━━━━━━━━━━━━━━━━━━━━━━━━━━━━━━━━━━━\u001b[0m \u001b[32m19.1/19.1 MB\u001b[0m \u001b[31m40.8 MB/s\u001b[0m eta \u001b[36m0:00:00\u001b[0m00:01\u001b[0m00:01\u001b[0m\n",
            "\u001b[?25hRequirement already satisfied: numpy<2.0,>=1.16.0 in ./.local/lib/python3.10/site-packages (from catboost) (1.23.5)\n",
            "Requirement already satisfied: matplotlib in ./.local/lib/python3.10/site-packages (from catboost) (3.8.2)\n",
            "Collecting graphviz\n",
            "  Downloading graphviz-0.20.3-py3-none-any.whl (47 kB)\n",
            "\u001b[2K     \u001b[90m━━━━━━━━━━━━━━━━━━━━━━━━━━━━━━━━━━━━━━━━\u001b[0m \u001b[32m47.1/47.1 kB\u001b[0m \u001b[31m16.5 MB/s\u001b[0m eta \u001b[36m0:00:00\u001b[0m\n",
            "\u001b[?25hRequirement already satisfied: scipy in ./.local/lib/python3.10/site-packages (from catboost) (1.14.1)\n",
            "Requirement already satisfied: pandas>=0.24 in ./.local/lib/python3.10/site-packages (from catboost) (2.1.4)\n",
            "Requirement already satisfied: six in ./.local/lib/python3.10/site-packages (from catboost) (1.16.0)\n",
            "Requirement already satisfied: tzdata>=2022.1 in ./.local/lib/python3.10/site-packages (from pandas>=0.24->catboost) (2024.1)\n",
            "Requirement already satisfied: python-dateutil>=2.8.2 in ./.local/lib/python3.10/site-packages (from pandas>=0.24->catboost) (2.9.0.post0)\n",
            "Requirement already satisfied: pytz>=2020.1 in ./.local/lib/python3.10/site-packages (from pandas>=0.24->catboost) (2024.1)\n",
            "Requirement already satisfied: pillow>=8 in ./.local/lib/python3.10/site-packages (from matplotlib->catboost) (10.4.0)\n",
            "Requirement already satisfied: pyparsing>=2.3.1 in ./.local/lib/python3.10/site-packages (from matplotlib->catboost) (3.1.4)\n",
            "Requirement already satisfied: contourpy>=1.0.1 in ./.local/lib/python3.10/site-packages (from matplotlib->catboost) (1.3.0)\n",
            "Requirement already satisfied: cycler>=0.10 in ./.local/lib/python3.10/site-packages (from matplotlib->catboost) (0.12.1)\n",
            "Requirement already satisfied: packaging>=20.0 in ./.local/lib/python3.10/site-packages (from matplotlib->catboost) (24.1)\n",
            "Requirement already satisfied: kiwisolver>=1.3.1 in ./.local/lib/python3.10/site-packages (from matplotlib->catboost) (1.4.5)\n",
            "Requirement already satisfied: fonttools>=4.22.0 in ./.local/lib/python3.10/site-packages (from matplotlib->catboost) (4.53.1)\n",
            "Collecting tenacity>=6.2.0\n",
            "  Downloading tenacity-9.0.0-py3-none-any.whl (28 kB)\n",
            "Installing collected packages: tenacity, graphviz, plotly, catboost\n",
            "Successfully installed catboost-1.2.7 graphviz-0.20.3 plotly-5.24.1 tenacity-9.0.0\n",
            "\n",
            "\u001b[1m[\u001b[0m\u001b[34;49mnotice\u001b[0m\u001b[1;39;49m]\u001b[0m\u001b[39;49m A new release of pip is available: \u001b[0m\u001b[31;49m23.0.1\u001b[0m\u001b[39;49m -> \u001b[0m\u001b[32;49m24.2\u001b[0m\n",
            "\u001b[1m[\u001b[0m\u001b[34;49mnotice\u001b[0m\u001b[1;39;49m]\u001b[0m\u001b[39;49m To update, run: \u001b[0m\u001b[32;49mpip install --upgrade pip\u001b[0m\n"
          ]
        }
      ],
      "source": [
        "!pip install catboost"
      ]
    },
    {
      "cell_type": "code",
      "execution_count": null,
      "id": "dc9192e7",
      "metadata": {
        "id": "dc9192e7"
      },
      "outputs": [],
      "source": [
        "import pandas as pd\n",
        "import numpy as np\n",
        "\n",
        "\n",
        "import pandas as pd\n",
        "import numpy as np\n",
        "import matplotlib.pyplot as plt\n",
        "from sklearn.preprocessing import LabelEncoder\n",
        "import catboost\n",
        "from catboost import CatBoostClassifier , Pool\n",
        "from sklearn.model_selection import cross_val_score, StratifiedKFold\n",
        "from sklearn.metrics import accuracy_score, confusion_matrix, precision_score, recall_score, f1_score\n",
        "from sklearn.preprocessing import MinMaxScaler\n",
        "from sklearn.model_selection import train_test_split\n",
        "from sklearn.utils.class_weight import compute_class_weight\n",
        "# import optuna\n",
        "# from optuna import Trial\n",
        "# from optuna.samplers import TPESampler\n",
        "from sklearn.preprocessing import OneHotEncoder\n",
        "from sklearn.preprocessing import LabelEncoder\n",
        "from sklearn.preprocessing import OneHotEncoder\n",
        "import warnings\n",
        "warnings.filterwarnings('ignore')\n",
        "import random\n",
        "import os\n",
        "\n",
        "# 랜덤 시드를 고정\n",
        "random.seed(42)\n",
        "np.random.seed(42)\n",
        "\n",
        "import warnings\n",
        "warnings.filterwarnings('ignore')"
      ]
    },
    {
      "cell_type": "markdown",
      "id": "4d054e30",
      "metadata": {
        "id": "4d054e30"
      },
      "source": [
        "### 데이터 읽어오기\n"
      ]
    },
    {
      "cell_type": "code",
      "execution_count": null,
      "id": "fc0b4d80",
      "metadata": {
        "scrolled": true,
        "id": "fc0b4d80"
      },
      "outputs": [],
      "source": [
        "ROOT_DIR = \"data\"\n",
        "RANDOM_STATE = 42\n",
        "\n",
        "# Load data\n",
        "train = pd.read_csv(os.path.join(ROOT_DIR, \"train.csv\"))\n",
        "test = pd.read_csv(os.path.join(ROOT_DIR, \"test.csv\"))\n",
        "submission = pd.read_csv(os.path.join(\"submission.csv\"))"
      ]
    },
    {
      "cell_type": "markdown",
      "id": "17e36d8f",
      "metadata": {
        "id": "17e36d8f"
      },
      "source": [
        "## 2. 수기 데이터 읽어오기"
      ]
    },
    {
      "cell_type": "markdown",
      "id": "45e51c67",
      "metadata": {
        "id": "45e51c67"
      },
      "source": [
        "수기 데이터는 제조 환경과 관련된 정보들이 담겨있는 데이터입니다."
      ]
    },
    {
      "cell_type": "code",
      "execution_count": null,
      "id": "db8ffcf2",
      "metadata": {
        "scrolled": true,
        "id": "db8ffcf2",
        "outputId": "0b9f32e9-3dac-4be5-cdab-5048c6b8548d"
      },
      "outputs": [
        {
          "data": {
            "text/html": [
              "<div>\n",
              "<style scoped>\n",
              "    .dataframe tbody tr th:only-of-type {\n",
              "        vertical-align: middle;\n",
              "    }\n",
              "\n",
              "    .dataframe tbody tr th {\n",
              "        vertical-align: top;\n",
              "    }\n",
              "\n",
              "    .dataframe thead th {\n",
              "        text-align: right;\n",
              "    }\n",
              "</style>\n",
              "<table border=\"1\" class=\"dataframe\">\n",
              "  <thead>\n",
              "    <tr style=\"text-align: right;\">\n",
              "      <th></th>\n",
              "      <th>day</th>\n",
              "      <th>start_time</th>\n",
              "      <th>end_time</th>\n",
              "      <th>Dam Thickness - 1time / day</th>\n",
              "      <th>Fill thickness - 1time / day</th>\n",
              "      <th>Fill cure energy (mJ) - Every break time</th>\n",
              "      <th>Fill cure power (mW) - Every break time</th>\n",
              "      <th>Line Temp. - Every break time</th>\n",
              "      <th>Line humidity - Every break time</th>\n",
              "      <th>OCR gap - Line#1 stage1</th>\n",
              "      <th>OCR gap - Line#1 stage2</th>\n",
              "      <th>OCR gap - Line#1 stage3</th>\n",
              "      <th>OCR gap - Line #2 stage1</th>\n",
              "      <th>OCR gap - Line #2 stage2</th>\n",
              "      <th>OCR gap - Line #2 stage3</th>\n",
              "    </tr>\n",
              "  </thead>\n",
              "  <tbody>\n",
              "    <tr>\n",
              "      <th>0</th>\n",
              "      <td>240319</td>\n",
              "      <td>08:00:00</td>\n",
              "      <td>10:30:00</td>\n",
              "      <td>454.0</td>\n",
              "      <td>193.0</td>\n",
              "      <td>1728.0</td>\n",
              "      <td>2919.0</td>\n",
              "      <td>23.4</td>\n",
              "      <td>56.6</td>\n",
              "      <td>1.2</td>\n",
              "      <td>1.000</td>\n",
              "      <td>1.200</td>\n",
              "      <td>1.2</td>\n",
              "      <td>0.900</td>\n",
              "      <td>1.4</td>\n",
              "    </tr>\n",
              "    <tr>\n",
              "      <th>1</th>\n",
              "      <td>240319</td>\n",
              "      <td>10:45:00</td>\n",
              "      <td>12:00:00</td>\n",
              "      <td>454.0</td>\n",
              "      <td>193.0</td>\n",
              "      <td>1754.0</td>\n",
              "      <td>2962.0</td>\n",
              "      <td>24.0</td>\n",
              "      <td>50.9</td>\n",
              "      <td>1.2</td>\n",
              "      <td>1.000</td>\n",
              "      <td>1.200</td>\n",
              "      <td>1.2</td>\n",
              "      <td>0.900</td>\n",
              "      <td>1.4</td>\n",
              "    </tr>\n",
              "    <tr>\n",
              "      <th>2</th>\n",
              "      <td>240319</td>\n",
              "      <td>13:00:00</td>\n",
              "      <td>15:00:00</td>\n",
              "      <td>454.0</td>\n",
              "      <td>193.0</td>\n",
              "      <td>1708.0</td>\n",
              "      <td>2887.0</td>\n",
              "      <td>24.5</td>\n",
              "      <td>49.6</td>\n",
              "      <td>1.2</td>\n",
              "      <td>1.000</td>\n",
              "      <td>1.200</td>\n",
              "      <td>1.2</td>\n",
              "      <td>0.900</td>\n",
              "      <td>1.4</td>\n",
              "    </tr>\n",
              "    <tr>\n",
              "      <th>3</th>\n",
              "      <td>240319</td>\n",
              "      <td>15:15:00</td>\n",
              "      <td>18:00:00</td>\n",
              "      <td>454.0</td>\n",
              "      <td>193.0</td>\n",
              "      <td>1751.0</td>\n",
              "      <td>2946.0</td>\n",
              "      <td>24.7</td>\n",
              "      <td>53.4</td>\n",
              "      <td>1.2</td>\n",
              "      <td>1.000</td>\n",
              "      <td>1.200</td>\n",
              "      <td>1.2</td>\n",
              "      <td>1.200</td>\n",
              "      <td>1.4</td>\n",
              "    </tr>\n",
              "    <tr>\n",
              "      <th>4</th>\n",
              "      <td>240319</td>\n",
              "      <td>18:30:00</td>\n",
              "      <td>20:00:00</td>\n",
              "      <td>NaN</td>\n",
              "      <td>NaN</td>\n",
              "      <td>NaN</td>\n",
              "      <td>NaN</td>\n",
              "      <td>NaN</td>\n",
              "      <td>NaN</td>\n",
              "      <td>NaN</td>\n",
              "      <td>NaN</td>\n",
              "      <td>NaN</td>\n",
              "      <td>NaN</td>\n",
              "      <td>NaN</td>\n",
              "      <td>NaN</td>\n",
              "    </tr>\n",
              "    <tr>\n",
              "      <th>...</th>\n",
              "      <td>...</td>\n",
              "      <td>...</td>\n",
              "      <td>...</td>\n",
              "      <td>...</td>\n",
              "      <td>...</td>\n",
              "      <td>...</td>\n",
              "      <td>...</td>\n",
              "      <td>...</td>\n",
              "      <td>...</td>\n",
              "      <td>...</td>\n",
              "      <td>...</td>\n",
              "      <td>...</td>\n",
              "      <td>...</td>\n",
              "      <td>...</td>\n",
              "      <td>...</td>\n",
              "    </tr>\n",
              "    <tr>\n",
              "      <th>100</th>\n",
              "      <td>240428</td>\n",
              "      <td>08:00:00</td>\n",
              "      <td>10:30:00</td>\n",
              "      <td>478.0</td>\n",
              "      <td>232.0</td>\n",
              "      <td>1642.0</td>\n",
              "      <td>2952.0</td>\n",
              "      <td>24.6</td>\n",
              "      <td>53.0</td>\n",
              "      <td>1.0</td>\n",
              "      <td>1.232</td>\n",
              "      <td>1.466</td>\n",
              "      <td>1.2</td>\n",
              "      <td>1.167</td>\n",
              "      <td>1.5</td>\n",
              "    </tr>\n",
              "    <tr>\n",
              "      <th>101</th>\n",
              "      <td>240428</td>\n",
              "      <td>10:45:00</td>\n",
              "      <td>12:00:00</td>\n",
              "      <td>478.0</td>\n",
              "      <td>232.0</td>\n",
              "      <td>1679.0</td>\n",
              "      <td>2942.0</td>\n",
              "      <td>24.8</td>\n",
              "      <td>52.7</td>\n",
              "      <td>1.0</td>\n",
              "      <td>1.232</td>\n",
              "      <td>1.466</td>\n",
              "      <td>1.2</td>\n",
              "      <td>1.167</td>\n",
              "      <td>1.5</td>\n",
              "    </tr>\n",
              "    <tr>\n",
              "      <th>102</th>\n",
              "      <td>240428</td>\n",
              "      <td>13:00:00</td>\n",
              "      <td>15:00:00</td>\n",
              "      <td>478.0</td>\n",
              "      <td>232.0</td>\n",
              "      <td>1552.0</td>\n",
              "      <td>2941.0</td>\n",
              "      <td>24.6</td>\n",
              "      <td>55.5</td>\n",
              "      <td>1.0</td>\n",
              "      <td>1.232</td>\n",
              "      <td>1.466</td>\n",
              "      <td>1.2</td>\n",
              "      <td>1.167</td>\n",
              "      <td>1.5</td>\n",
              "    </tr>\n",
              "    <tr>\n",
              "      <th>103</th>\n",
              "      <td>240428</td>\n",
              "      <td>15:15:00</td>\n",
              "      <td>18:00:00</td>\n",
              "      <td>478.0</td>\n",
              "      <td>232.0</td>\n",
              "      <td>1552.0</td>\n",
              "      <td>2934.0</td>\n",
              "      <td>24.3</td>\n",
              "      <td>54.6</td>\n",
              "      <td>1.0</td>\n",
              "      <td>1.232</td>\n",
              "      <td>1.466</td>\n",
              "      <td>1.2</td>\n",
              "      <td>1.167</td>\n",
              "      <td>1.5</td>\n",
              "    </tr>\n",
              "    <tr>\n",
              "      <th>104</th>\n",
              "      <td>240428</td>\n",
              "      <td>18:30:00</td>\n",
              "      <td>20:00:00</td>\n",
              "      <td>478.0</td>\n",
              "      <td>232.0</td>\n",
              "      <td>1494.0</td>\n",
              "      <td>2928.0</td>\n",
              "      <td>24.2</td>\n",
              "      <td>55.4</td>\n",
              "      <td>1.0</td>\n",
              "      <td>1.232</td>\n",
              "      <td>1.466</td>\n",
              "      <td>1.2</td>\n",
              "      <td>1.167</td>\n",
              "      <td>1.5</td>\n",
              "    </tr>\n",
              "  </tbody>\n",
              "</table>\n",
              "<p>105 rows × 15 columns</p>\n",
              "</div>"
            ],
            "text/plain": [
              "        day start_time  end_time  Dam Thickness - 1time / day  \\\n",
              "0    240319   08:00:00  10:30:00                        454.0   \n",
              "1    240319   10:45:00  12:00:00                        454.0   \n",
              "2    240319   13:00:00  15:00:00                        454.0   \n",
              "3    240319   15:15:00  18:00:00                        454.0   \n",
              "4    240319   18:30:00  20:00:00                          NaN   \n",
              "..      ...        ...       ...                          ...   \n",
              "100  240428   08:00:00  10:30:00                        478.0   \n",
              "101  240428   10:45:00  12:00:00                        478.0   \n",
              "102  240428   13:00:00  15:00:00                        478.0   \n",
              "103  240428   15:15:00  18:00:00                        478.0   \n",
              "104  240428   18:30:00  20:00:00                        478.0   \n",
              "\n",
              "     Fill thickness - 1time / day  Fill cure energy (mJ) - Every break time  \\\n",
              "0                           193.0                                    1728.0   \n",
              "1                           193.0                                    1754.0   \n",
              "2                           193.0                                    1708.0   \n",
              "3                           193.0                                    1751.0   \n",
              "4                             NaN                                       NaN   \n",
              "..                            ...                                       ...   \n",
              "100                         232.0                                    1642.0   \n",
              "101                         232.0                                    1679.0   \n",
              "102                         232.0                                    1552.0   \n",
              "103                         232.0                                    1552.0   \n",
              "104                         232.0                                    1494.0   \n",
              "\n",
              "     Fill cure power (mW) - Every break time  Line Temp. - Every break time  \\\n",
              "0                                     2919.0                           23.4   \n",
              "1                                     2962.0                           24.0   \n",
              "2                                     2887.0                           24.5   \n",
              "3                                     2946.0                           24.7   \n",
              "4                                        NaN                            NaN   \n",
              "..                                       ...                            ...   \n",
              "100                                   2952.0                           24.6   \n",
              "101                                   2942.0                           24.8   \n",
              "102                                   2941.0                           24.6   \n",
              "103                                   2934.0                           24.3   \n",
              "104                                   2928.0                           24.2   \n",
              "\n",
              "     Line humidity - Every break time  OCR gap - Line#1 stage1  \\\n",
              "0                                56.6                      1.2   \n",
              "1                                50.9                      1.2   \n",
              "2                                49.6                      1.2   \n",
              "3                                53.4                      1.2   \n",
              "4                                 NaN                      NaN   \n",
              "..                                ...                      ...   \n",
              "100                              53.0                      1.0   \n",
              "101                              52.7                      1.0   \n",
              "102                              55.5                      1.0   \n",
              "103                              54.6                      1.0   \n",
              "104                              55.4                      1.0   \n",
              "\n",
              "     OCR gap - Line#1 stage2  OCR gap - Line#1 stage3  \\\n",
              "0                      1.000                    1.200   \n",
              "1                      1.000                    1.200   \n",
              "2                      1.000                    1.200   \n",
              "3                      1.000                    1.200   \n",
              "4                        NaN                      NaN   \n",
              "..                       ...                      ...   \n",
              "100                    1.232                    1.466   \n",
              "101                    1.232                    1.466   \n",
              "102                    1.232                    1.466   \n",
              "103                    1.232                    1.466   \n",
              "104                    1.232                    1.466   \n",
              "\n",
              "     OCR gap - Line #2 stage1  OCR gap - Line #2 stage2  \\\n",
              "0                         1.2                     0.900   \n",
              "1                         1.2                     0.900   \n",
              "2                         1.2                     0.900   \n",
              "3                         1.2                     1.200   \n",
              "4                         NaN                       NaN   \n",
              "..                        ...                       ...   \n",
              "100                       1.2                     1.167   \n",
              "101                       1.2                     1.167   \n",
              "102                       1.2                     1.167   \n",
              "103                       1.2                     1.167   \n",
              "104                       1.2                     1.167   \n",
              "\n",
              "     OCR gap - Line #2 stage3  \n",
              "0                         1.4  \n",
              "1                         1.4  \n",
              "2                         1.4  \n",
              "3                         1.4  \n",
              "4                         NaN  \n",
              "..                        ...  \n",
              "100                       1.5  \n",
              "101                       1.5  \n",
              "102                       1.5  \n",
              "103                       1.5  \n",
              "104                       1.5  \n",
              "\n",
              "[105 rows x 15 columns]"
            ]
          },
          "execution_count": 3,
          "metadata": {},
          "output_type": "execute_result"
        }
      ],
      "source": [
        "df_hand = pd.read_excel(os.path.join(ROOT_DIR, \"hand_data.xlsx\"))\n",
        "df_hand"
      ]
    },
    {
      "cell_type": "code",
      "execution_count": null,
      "id": "574ccd88",
      "metadata": {
        "id": "574ccd88"
      },
      "outputs": [],
      "source": [
        "# 남길 컬럼 리스트\n",
        "columns_to_keep = ['day', 'start_time', 'end_time', 'Line Temp. - Every break time', 'Line humidity - Every break time', 'Fill cure energy (mJ) - Every break time', 'Fill cure power (mW) - Every break time']\n",
        "\n",
        "# 해당 컬럼들만 남기고 나머지는 제거\n",
        "df_hand = df_hand[columns_to_keep]\n"
      ]
    },
    {
      "cell_type": "code",
      "execution_count": null,
      "id": "71f96060",
      "metadata": {
        "id": "71f96060",
        "outputId": "ae378ebe-bbee-4b58-fead-6550466b5e5f"
      },
      "outputs": [
        {
          "data": {
            "text/html": [
              "<div>\n",
              "<style scoped>\n",
              "    .dataframe tbody tr th:only-of-type {\n",
              "        vertical-align: middle;\n",
              "    }\n",
              "\n",
              "    .dataframe tbody tr th {\n",
              "        vertical-align: top;\n",
              "    }\n",
              "\n",
              "    .dataframe thead th {\n",
              "        text-align: right;\n",
              "    }\n",
              "</style>\n",
              "<table border=\"1\" class=\"dataframe\">\n",
              "  <thead>\n",
              "    <tr style=\"text-align: right;\">\n",
              "      <th></th>\n",
              "      <th>day</th>\n",
              "      <th>start_time</th>\n",
              "      <th>end_time</th>\n",
              "      <th>Line Temp. - Every break time</th>\n",
              "      <th>Line humidity - Every break time</th>\n",
              "      <th>Fill cure energy (mJ) - Every break time</th>\n",
              "      <th>Fill cure power (mW) - Every break time</th>\n",
              "    </tr>\n",
              "  </thead>\n",
              "  <tbody>\n",
              "    <tr>\n",
              "      <th>0</th>\n",
              "      <td>240319</td>\n",
              "      <td>08:00:00</td>\n",
              "      <td>10:30:00</td>\n",
              "      <td>23.4</td>\n",
              "      <td>56.6</td>\n",
              "      <td>1728.0</td>\n",
              "      <td>2919.0</td>\n",
              "    </tr>\n",
              "    <tr>\n",
              "      <th>1</th>\n",
              "      <td>240319</td>\n",
              "      <td>10:45:00</td>\n",
              "      <td>12:00:00</td>\n",
              "      <td>24.0</td>\n",
              "      <td>50.9</td>\n",
              "      <td>1754.0</td>\n",
              "      <td>2962.0</td>\n",
              "    </tr>\n",
              "    <tr>\n",
              "      <th>2</th>\n",
              "      <td>240319</td>\n",
              "      <td>13:00:00</td>\n",
              "      <td>15:00:00</td>\n",
              "      <td>24.5</td>\n",
              "      <td>49.6</td>\n",
              "      <td>1708.0</td>\n",
              "      <td>2887.0</td>\n",
              "    </tr>\n",
              "    <tr>\n",
              "      <th>3</th>\n",
              "      <td>240319</td>\n",
              "      <td>15:15:00</td>\n",
              "      <td>18:00:00</td>\n",
              "      <td>24.7</td>\n",
              "      <td>53.4</td>\n",
              "      <td>1751.0</td>\n",
              "      <td>2946.0</td>\n",
              "    </tr>\n",
              "    <tr>\n",
              "      <th>5</th>\n",
              "      <td>240320</td>\n",
              "      <td>08:00:00</td>\n",
              "      <td>10:30:00</td>\n",
              "      <td>24.2</td>\n",
              "      <td>55.6</td>\n",
              "      <td>1739.0</td>\n",
              "      <td>2875.0</td>\n",
              "    </tr>\n",
              "    <tr>\n",
              "      <th>...</th>\n",
              "      <td>...</td>\n",
              "      <td>...</td>\n",
              "      <td>...</td>\n",
              "      <td>...</td>\n",
              "      <td>...</td>\n",
              "      <td>...</td>\n",
              "      <td>...</td>\n",
              "    </tr>\n",
              "    <tr>\n",
              "      <th>100</th>\n",
              "      <td>240428</td>\n",
              "      <td>08:00:00</td>\n",
              "      <td>10:30:00</td>\n",
              "      <td>24.6</td>\n",
              "      <td>53.0</td>\n",
              "      <td>1642.0</td>\n",
              "      <td>2952.0</td>\n",
              "    </tr>\n",
              "    <tr>\n",
              "      <th>101</th>\n",
              "      <td>240428</td>\n",
              "      <td>10:45:00</td>\n",
              "      <td>12:00:00</td>\n",
              "      <td>24.8</td>\n",
              "      <td>52.7</td>\n",
              "      <td>1679.0</td>\n",
              "      <td>2942.0</td>\n",
              "    </tr>\n",
              "    <tr>\n",
              "      <th>102</th>\n",
              "      <td>240428</td>\n",
              "      <td>13:00:00</td>\n",
              "      <td>15:00:00</td>\n",
              "      <td>24.6</td>\n",
              "      <td>55.5</td>\n",
              "      <td>1552.0</td>\n",
              "      <td>2941.0</td>\n",
              "    </tr>\n",
              "    <tr>\n",
              "      <th>103</th>\n",
              "      <td>240428</td>\n",
              "      <td>15:15:00</td>\n",
              "      <td>18:00:00</td>\n",
              "      <td>24.3</td>\n",
              "      <td>54.6</td>\n",
              "      <td>1552.0</td>\n",
              "      <td>2934.0</td>\n",
              "    </tr>\n",
              "    <tr>\n",
              "      <th>104</th>\n",
              "      <td>240428</td>\n",
              "      <td>18:30:00</td>\n",
              "      <td>20:00:00</td>\n",
              "      <td>24.2</td>\n",
              "      <td>55.4</td>\n",
              "      <td>1494.0</td>\n",
              "      <td>2928.0</td>\n",
              "    </tr>\n",
              "  </tbody>\n",
              "</table>\n",
              "<p>81 rows × 7 columns</p>\n",
              "</div>"
            ],
            "text/plain": [
              "        day start_time  end_time  Line Temp. - Every break time  \\\n",
              "0    240319   08:00:00  10:30:00                           23.4   \n",
              "1    240319   10:45:00  12:00:00                           24.0   \n",
              "2    240319   13:00:00  15:00:00                           24.5   \n",
              "3    240319   15:15:00  18:00:00                           24.7   \n",
              "5    240320   08:00:00  10:30:00                           24.2   \n",
              "..      ...        ...       ...                            ...   \n",
              "100  240428   08:00:00  10:30:00                           24.6   \n",
              "101  240428   10:45:00  12:00:00                           24.8   \n",
              "102  240428   13:00:00  15:00:00                           24.6   \n",
              "103  240428   15:15:00  18:00:00                           24.3   \n",
              "104  240428   18:30:00  20:00:00                           24.2   \n",
              "\n",
              "     Line humidity - Every break time  \\\n",
              "0                                56.6   \n",
              "1                                50.9   \n",
              "2                                49.6   \n",
              "3                                53.4   \n",
              "5                                55.6   \n",
              "..                                ...   \n",
              "100                              53.0   \n",
              "101                              52.7   \n",
              "102                              55.5   \n",
              "103                              54.6   \n",
              "104                              55.4   \n",
              "\n",
              "     Fill cure energy (mJ) - Every break time  \\\n",
              "0                                      1728.0   \n",
              "1                                      1754.0   \n",
              "2                                      1708.0   \n",
              "3                                      1751.0   \n",
              "5                                      1739.0   \n",
              "..                                        ...   \n",
              "100                                    1642.0   \n",
              "101                                    1679.0   \n",
              "102                                    1552.0   \n",
              "103                                    1552.0   \n",
              "104                                    1494.0   \n",
              "\n",
              "     Fill cure power (mW) - Every break time  \n",
              "0                                     2919.0  \n",
              "1                                     2962.0  \n",
              "2                                     2887.0  \n",
              "3                                     2946.0  \n",
              "5                                     2875.0  \n",
              "..                                       ...  \n",
              "100                                   2952.0  \n",
              "101                                   2942.0  \n",
              "102                                   2941.0  \n",
              "103                                   2934.0  \n",
              "104                                   2928.0  \n",
              "\n",
              "[81 rows x 7 columns]"
            ]
          },
          "execution_count": 5,
          "metadata": {},
          "output_type": "execute_result"
        }
      ],
      "source": [
        "df_hand = df_hand.dropna()\n",
        "\n",
        "df_hand"
      ]
    },
    {
      "cell_type": "code",
      "execution_count": null,
      "id": "c456ce0d",
      "metadata": {
        "id": "c456ce0d"
      },
      "outputs": [],
      "source": [
        "df_hand['Energy_per_Power'] = df_hand['Fill cure energy (mJ) - Every break time'] / df_hand['Fill cure power (mW) - Every break time']"
      ]
    },
    {
      "cell_type": "code",
      "execution_count": null,
      "id": "ecc282df",
      "metadata": {
        "id": "ecc282df"
      },
      "outputs": [],
      "source": [
        "df_hand = df_hand.drop('Fill cure energy (mJ) - Every break time', axis = 1)\n",
        "df_hand = df_hand.drop('Fill cure power (mW) - Every break time', axis = 1)\n"
      ]
    },
    {
      "cell_type": "code",
      "execution_count": null,
      "id": "baf9b325",
      "metadata": {
        "id": "baf9b325"
      },
      "outputs": [],
      "source": [
        "drop_cols = []\n",
        "for i in range(len(train.columns)):\n",
        "    if len(train.iloc[:, i].unique()) == 1:\n",
        "        drop_cols.append(train.columns[i])\n",
        "train = train.drop(drop_cols, axis=1)"
      ]
    },
    {
      "cell_type": "code",
      "execution_count": null,
      "id": "7ce9d697",
      "metadata": {
        "id": "7ce9d697",
        "outputId": "5f76eeae-00f0-4a11-c8c2-36cd2c6b6289"
      },
      "outputs": [
        {
          "data": {
            "text/html": [
              "<div>\n",
              "<style scoped>\n",
              "    .dataframe tbody tr th:only-of-type {\n",
              "        vertical-align: middle;\n",
              "    }\n",
              "\n",
              "    .dataframe tbody tr th {\n",
              "        vertical-align: top;\n",
              "    }\n",
              "\n",
              "    .dataframe thead th {\n",
              "        text-align: right;\n",
              "    }\n",
              "</style>\n",
              "<table border=\"1\" class=\"dataframe\">\n",
              "  <thead>\n",
              "    <tr style=\"text-align: right;\">\n",
              "      <th></th>\n",
              "      <th>Equipment_Dam</th>\n",
              "      <th>Model.Suffix_Dam</th>\n",
              "      <th>Workorder_Dam</th>\n",
              "      <th>Collect Date_Dam</th>\n",
              "      <th>CURE END POSITION X Collect Result_Dam</th>\n",
              "      <th>CURE END POSITION Z Collect Result_Dam</th>\n",
              "      <th>CURE END POSITION Θ Collect Result_Dam</th>\n",
              "      <th>CURE SPEED Collect Result_Dam</th>\n",
              "      <th>CURE START POSITION X Collect Result_Dam</th>\n",
              "      <th>CURE START POSITION Θ Collect Result_Dam</th>\n",
              "      <th>...</th>\n",
              "      <th>Head Clean Position Z Collect Result_Fill2</th>\n",
              "      <th>Head Purge Position X Collect Result_Fill2</th>\n",
              "      <th>Head Purge Position Y Collect Result_Fill2</th>\n",
              "      <th>Head Purge Position Z Collect Result_Fill2</th>\n",
              "      <th>Machine Tact time Collect Result_Fill2</th>\n",
              "      <th>PalletID Collect Result_Fill2</th>\n",
              "      <th>Production Qty Collect Result_Fill2</th>\n",
              "      <th>Receip No Collect Result_Fill2</th>\n",
              "      <th>WorkMode Collect Result_Fill2</th>\n",
              "      <th>target</th>\n",
              "    </tr>\n",
              "  </thead>\n",
              "  <tbody>\n",
              "    <tr>\n",
              "      <th>0</th>\n",
              "      <td>Dam dispenser #1</td>\n",
              "      <td>AJX75334505</td>\n",
              "      <td>4F1XA938-1</td>\n",
              "      <td>2024-04-25 11:10:00</td>\n",
              "      <td>240.0</td>\n",
              "      <td>2.5</td>\n",
              "      <td>-90</td>\n",
              "      <td>100</td>\n",
              "      <td>1030</td>\n",
              "      <td>-90</td>\n",
              "      <td>...</td>\n",
              "      <td>50.0</td>\n",
              "      <td>91.8</td>\n",
              "      <td>270</td>\n",
              "      <td>50</td>\n",
              "      <td>114.612</td>\n",
              "      <td>19.9</td>\n",
              "      <td>7</td>\n",
              "      <td>127</td>\n",
              "      <td>1</td>\n",
              "      <td>Normal</td>\n",
              "    </tr>\n",
              "    <tr>\n",
              "      <th>1</th>\n",
              "      <td>Dam dispenser #1</td>\n",
              "      <td>AJX75334505</td>\n",
              "      <td>3KPM0016-2</td>\n",
              "      <td>2023-09-19 14:30:00</td>\n",
              "      <td>240.0</td>\n",
              "      <td>2.5</td>\n",
              "      <td>-90</td>\n",
              "      <td>70</td>\n",
              "      <td>1030</td>\n",
              "      <td>-90</td>\n",
              "      <td>...</td>\n",
              "      <td>91.8</td>\n",
              "      <td>270.0</td>\n",
              "      <td>50</td>\n",
              "      <td>85</td>\n",
              "      <td>19.600</td>\n",
              "      <td>7.0</td>\n",
              "      <td>185</td>\n",
              "      <td>1</td>\n",
              "      <td>0</td>\n",
              "      <td>Normal</td>\n",
              "    </tr>\n",
              "    <tr>\n",
              "      <th>2</th>\n",
              "      <td>Dam dispenser #2</td>\n",
              "      <td>AJX75334501</td>\n",
              "      <td>4E1X9167-1</td>\n",
              "      <td>2024-03-05 09:30:00</td>\n",
              "      <td>1000.0</td>\n",
              "      <td>12.5</td>\n",
              "      <td>90</td>\n",
              "      <td>85</td>\n",
              "      <td>280</td>\n",
              "      <td>90</td>\n",
              "      <td>...</td>\n",
              "      <td>50.0</td>\n",
              "      <td>91.8</td>\n",
              "      <td>270</td>\n",
              "      <td>50</td>\n",
              "      <td>114.612</td>\n",
              "      <td>19.8</td>\n",
              "      <td>10</td>\n",
              "      <td>73</td>\n",
              "      <td>1</td>\n",
              "      <td>Normal</td>\n",
              "    </tr>\n",
              "    <tr>\n",
              "      <th>3</th>\n",
              "      <td>Dam dispenser #2</td>\n",
              "      <td>AJX75334501</td>\n",
              "      <td>3K1X0057-1</td>\n",
              "      <td>2023-09-25 15:40:00</td>\n",
              "      <td>1000.0</td>\n",
              "      <td>12.5</td>\n",
              "      <td>90</td>\n",
              "      <td>70</td>\n",
              "      <td>280</td>\n",
              "      <td>90</td>\n",
              "      <td>...</td>\n",
              "      <td>91.8</td>\n",
              "      <td>270.0</td>\n",
              "      <td>50</td>\n",
              "      <td>85</td>\n",
              "      <td>19.900</td>\n",
              "      <td>12.0</td>\n",
              "      <td>268</td>\n",
              "      <td>1</td>\n",
              "      <td>0</td>\n",
              "      <td>Normal</td>\n",
              "    </tr>\n",
              "    <tr>\n",
              "      <th>4</th>\n",
              "      <td>Dam dispenser #1</td>\n",
              "      <td>AJX75334501</td>\n",
              "      <td>3HPM0007-1</td>\n",
              "      <td>2023-06-27 13:20:00</td>\n",
              "      <td>240.0</td>\n",
              "      <td>2.5</td>\n",
              "      <td>-90</td>\n",
              "      <td>70</td>\n",
              "      <td>1030</td>\n",
              "      <td>-90</td>\n",
              "      <td>...</td>\n",
              "      <td>91.8</td>\n",
              "      <td>270.0</td>\n",
              "      <td>50</td>\n",
              "      <td>85</td>\n",
              "      <td>19.700</td>\n",
              "      <td>8.0</td>\n",
              "      <td>121</td>\n",
              "      <td>1</td>\n",
              "      <td>0</td>\n",
              "      <td>Normal</td>\n",
              "    </tr>\n",
              "    <tr>\n",
              "      <th>...</th>\n",
              "      <td>...</td>\n",
              "      <td>...</td>\n",
              "      <td>...</td>\n",
              "      <td>...</td>\n",
              "      <td>...</td>\n",
              "      <td>...</td>\n",
              "      <td>...</td>\n",
              "      <td>...</td>\n",
              "      <td>...</td>\n",
              "      <td>...</td>\n",
              "      <td>...</td>\n",
              "      <td>...</td>\n",
              "      <td>...</td>\n",
              "      <td>...</td>\n",
              "      <td>...</td>\n",
              "      <td>...</td>\n",
              "      <td>...</td>\n",
              "      <td>...</td>\n",
              "      <td>...</td>\n",
              "      <td>...</td>\n",
              "      <td>...</td>\n",
              "    </tr>\n",
              "    <tr>\n",
              "      <th>40501</th>\n",
              "      <td>Dam dispenser #1</td>\n",
              "      <td>AJX75334501</td>\n",
              "      <td>3J1XF434-2</td>\n",
              "      <td>2023-09-14 15:50:00</td>\n",
              "      <td>240.0</td>\n",
              "      <td>2.5</td>\n",
              "      <td>-90</td>\n",
              "      <td>70</td>\n",
              "      <td>1030</td>\n",
              "      <td>-90</td>\n",
              "      <td>...</td>\n",
              "      <td>91.8</td>\n",
              "      <td>270.0</td>\n",
              "      <td>50</td>\n",
              "      <td>85</td>\n",
              "      <td>19.200</td>\n",
              "      <td>1.0</td>\n",
              "      <td>318</td>\n",
              "      <td>1</td>\n",
              "      <td>0</td>\n",
              "      <td>Normal</td>\n",
              "    </tr>\n",
              "    <tr>\n",
              "      <th>40502</th>\n",
              "      <td>Dam dispenser #2</td>\n",
              "      <td>AJX75334501</td>\n",
              "      <td>4E1XC796-1</td>\n",
              "      <td>2024-04-10 14:20:00</td>\n",
              "      <td>1000.0</td>\n",
              "      <td>12.5</td>\n",
              "      <td>90</td>\n",
              "      <td>100</td>\n",
              "      <td>280</td>\n",
              "      <td>90</td>\n",
              "      <td>...</td>\n",
              "      <td>50.0</td>\n",
              "      <td>91.8</td>\n",
              "      <td>270</td>\n",
              "      <td>50</td>\n",
              "      <td>114.612</td>\n",
              "      <td>20.5</td>\n",
              "      <td>14</td>\n",
              "      <td>197</td>\n",
              "      <td>1</td>\n",
              "      <td>Normal</td>\n",
              "    </tr>\n",
              "    <tr>\n",
              "      <th>40503</th>\n",
              "      <td>Dam dispenser #1</td>\n",
              "      <td>AJX75334501</td>\n",
              "      <td>4C1XD438-1</td>\n",
              "      <td>2024-02-22 08:40:00</td>\n",
              "      <td>240.0</td>\n",
              "      <td>2.5</td>\n",
              "      <td>-90</td>\n",
              "      <td>100</td>\n",
              "      <td>1030</td>\n",
              "      <td>-90</td>\n",
              "      <td>...</td>\n",
              "      <td>50.0</td>\n",
              "      <td>91.8</td>\n",
              "      <td>270</td>\n",
              "      <td>50</td>\n",
              "      <td>85.000</td>\n",
              "      <td>19.7</td>\n",
              "      <td>1</td>\n",
              "      <td>27</td>\n",
              "      <td>1</td>\n",
              "      <td>Normal</td>\n",
              "    </tr>\n",
              "    <tr>\n",
              "      <th>40504</th>\n",
              "      <td>Dam dispenser #2</td>\n",
              "      <td>AJX75334501</td>\n",
              "      <td>3I1XA258-1</td>\n",
              "      <td>2023-07-25 11:00:00</td>\n",
              "      <td>1000.0</td>\n",
              "      <td>12.5</td>\n",
              "      <td>90</td>\n",
              "      <td>70</td>\n",
              "      <td>280</td>\n",
              "      <td>90</td>\n",
              "      <td>...</td>\n",
              "      <td>91.8</td>\n",
              "      <td>270.0</td>\n",
              "      <td>50</td>\n",
              "      <td>85</td>\n",
              "      <td>20.100</td>\n",
              "      <td>13.0</td>\n",
              "      <td>117</td>\n",
              "      <td>1</td>\n",
              "      <td>0</td>\n",
              "      <td>Normal</td>\n",
              "    </tr>\n",
              "    <tr>\n",
              "      <th>40505</th>\n",
              "      <td>Dam dispenser #1</td>\n",
              "      <td>AJX75334501</td>\n",
              "      <td>3G1XA501-1</td>\n",
              "      <td>2023-05-31 01:40:00</td>\n",
              "      <td>240.0</td>\n",
              "      <td>2.5</td>\n",
              "      <td>-90</td>\n",
              "      <td>70</td>\n",
              "      <td>1030</td>\n",
              "      <td>-90</td>\n",
              "      <td>...</td>\n",
              "      <td>91.8</td>\n",
              "      <td>270.0</td>\n",
              "      <td>50</td>\n",
              "      <td>85</td>\n",
              "      <td>19.400</td>\n",
              "      <td>3.0</td>\n",
              "      <td>320</td>\n",
              "      <td>1</td>\n",
              "      <td>0</td>\n",
              "      <td>AbNormal</td>\n",
              "    </tr>\n",
              "  </tbody>\n",
              "</table>\n",
              "<p>40506 rows × 155 columns</p>\n",
              "</div>"
            ],
            "text/plain": [
              "          Equipment_Dam Model.Suffix_Dam Workorder_Dam     Collect Date_Dam  \\\n",
              "0      Dam dispenser #1      AJX75334505    4F1XA938-1  2024-04-25 11:10:00   \n",
              "1      Dam dispenser #1      AJX75334505    3KPM0016-2  2023-09-19 14:30:00   \n",
              "2      Dam dispenser #2      AJX75334501    4E1X9167-1  2024-03-05 09:30:00   \n",
              "3      Dam dispenser #2      AJX75334501    3K1X0057-1  2023-09-25 15:40:00   \n",
              "4      Dam dispenser #1      AJX75334501    3HPM0007-1  2023-06-27 13:20:00   \n",
              "...                 ...              ...           ...                  ...   \n",
              "40501  Dam dispenser #1      AJX75334501    3J1XF434-2  2023-09-14 15:50:00   \n",
              "40502  Dam dispenser #2      AJX75334501    4E1XC796-1  2024-04-10 14:20:00   \n",
              "40503  Dam dispenser #1      AJX75334501    4C1XD438-1  2024-02-22 08:40:00   \n",
              "40504  Dam dispenser #2      AJX75334501    3I1XA258-1  2023-07-25 11:00:00   \n",
              "40505  Dam dispenser #1      AJX75334501    3G1XA501-1  2023-05-31 01:40:00   \n",
              "\n",
              "       CURE END POSITION X Collect Result_Dam  \\\n",
              "0                                       240.0   \n",
              "1                                       240.0   \n",
              "2                                      1000.0   \n",
              "3                                      1000.0   \n",
              "4                                       240.0   \n",
              "...                                       ...   \n",
              "40501                                   240.0   \n",
              "40502                                  1000.0   \n",
              "40503                                   240.0   \n",
              "40504                                  1000.0   \n",
              "40505                                   240.0   \n",
              "\n",
              "       CURE END POSITION Z Collect Result_Dam  \\\n",
              "0                                         2.5   \n",
              "1                                         2.5   \n",
              "2                                        12.5   \n",
              "3                                        12.5   \n",
              "4                                         2.5   \n",
              "...                                       ...   \n",
              "40501                                     2.5   \n",
              "40502                                    12.5   \n",
              "40503                                     2.5   \n",
              "40504                                    12.5   \n",
              "40505                                     2.5   \n",
              "\n",
              "       CURE END POSITION Θ Collect Result_Dam  CURE SPEED Collect Result_Dam  \\\n",
              "0                                         -90                            100   \n",
              "1                                         -90                             70   \n",
              "2                                          90                             85   \n",
              "3                                          90                             70   \n",
              "4                                         -90                             70   \n",
              "...                                       ...                            ...   \n",
              "40501                                     -90                             70   \n",
              "40502                                      90                            100   \n",
              "40503                                     -90                            100   \n",
              "40504                                      90                             70   \n",
              "40505                                     -90                             70   \n",
              "\n",
              "       CURE START POSITION X Collect Result_Dam  \\\n",
              "0                                          1030   \n",
              "1                                          1030   \n",
              "2                                           280   \n",
              "3                                           280   \n",
              "4                                          1030   \n",
              "...                                         ...   \n",
              "40501                                      1030   \n",
              "40502                                       280   \n",
              "40503                                      1030   \n",
              "40504                                       280   \n",
              "40505                                      1030   \n",
              "\n",
              "       CURE START POSITION Θ Collect Result_Dam  ...  \\\n",
              "0                                           -90  ...   \n",
              "1                                           -90  ...   \n",
              "2                                            90  ...   \n",
              "3                                            90  ...   \n",
              "4                                           -90  ...   \n",
              "...                                         ...  ...   \n",
              "40501                                       -90  ...   \n",
              "40502                                        90  ...   \n",
              "40503                                       -90  ...   \n",
              "40504                                        90  ...   \n",
              "40505                                       -90  ...   \n",
              "\n",
              "       Head Clean Position Z Collect Result_Fill2  \\\n",
              "0                                            50.0   \n",
              "1                                            91.8   \n",
              "2                                            50.0   \n",
              "3                                            91.8   \n",
              "4                                            91.8   \n",
              "...                                           ...   \n",
              "40501                                        91.8   \n",
              "40502                                        50.0   \n",
              "40503                                        50.0   \n",
              "40504                                        91.8   \n",
              "40505                                        91.8   \n",
              "\n",
              "       Head Purge Position X Collect Result_Fill2  \\\n",
              "0                                            91.8   \n",
              "1                                           270.0   \n",
              "2                                            91.8   \n",
              "3                                           270.0   \n",
              "4                                           270.0   \n",
              "...                                           ...   \n",
              "40501                                       270.0   \n",
              "40502                                        91.8   \n",
              "40503                                        91.8   \n",
              "40504                                       270.0   \n",
              "40505                                       270.0   \n",
              "\n",
              "       Head Purge Position Y Collect Result_Fill2  \\\n",
              "0                                             270   \n",
              "1                                              50   \n",
              "2                                             270   \n",
              "3                                              50   \n",
              "4                                              50   \n",
              "...                                           ...   \n",
              "40501                                          50   \n",
              "40502                                         270   \n",
              "40503                                         270   \n",
              "40504                                          50   \n",
              "40505                                          50   \n",
              "\n",
              "       Head Purge Position Z Collect Result_Fill2  \\\n",
              "0                                              50   \n",
              "1                                              85   \n",
              "2                                              50   \n",
              "3                                              85   \n",
              "4                                              85   \n",
              "...                                           ...   \n",
              "40501                                          85   \n",
              "40502                                          50   \n",
              "40503                                          50   \n",
              "40504                                          85   \n",
              "40505                                          85   \n",
              "\n",
              "       Machine Tact time Collect Result_Fill2  PalletID Collect Result_Fill2  \\\n",
              "0                                     114.612                           19.9   \n",
              "1                                      19.600                            7.0   \n",
              "2                                     114.612                           19.8   \n",
              "3                                      19.900                           12.0   \n",
              "4                                      19.700                            8.0   \n",
              "...                                       ...                            ...   \n",
              "40501                                  19.200                            1.0   \n",
              "40502                                 114.612                           20.5   \n",
              "40503                                  85.000                           19.7   \n",
              "40504                                  20.100                           13.0   \n",
              "40505                                  19.400                            3.0   \n",
              "\n",
              "       Production Qty Collect Result_Fill2 Receip No Collect Result_Fill2  \\\n",
              "0                                        7                            127   \n",
              "1                                      185                              1   \n",
              "2                                       10                             73   \n",
              "3                                      268                              1   \n",
              "4                                      121                              1   \n",
              "...                                    ...                            ...   \n",
              "40501                                  318                              1   \n",
              "40502                                   14                            197   \n",
              "40503                                    1                             27   \n",
              "40504                                  117                              1   \n",
              "40505                                  320                              1   \n",
              "\n",
              "      WorkMode Collect Result_Fill2    target  \n",
              "0                                 1    Normal  \n",
              "1                                 0    Normal  \n",
              "2                                 1    Normal  \n",
              "3                                 0    Normal  \n",
              "4                                 0    Normal  \n",
              "...                             ...       ...  \n",
              "40501                             0    Normal  \n",
              "40502                             1    Normal  \n",
              "40503                             1    Normal  \n",
              "40504                             0    Normal  \n",
              "40505                             0  AbNormal  \n",
              "\n",
              "[40506 rows x 155 columns]"
            ]
          },
          "execution_count": 9,
          "metadata": {},
          "output_type": "execute_result"
        }
      ],
      "source": [
        "drop_cols = []\n",
        "for column in train.columns:\n",
        "  if (train[column].notnull().sum() // 5) < train[\n",
        "      column].isnull().sum():\n",
        "      drop_cols.append(column)\n",
        "train[drop_cols] = train[drop_cols].fillna(0)\n",
        "train = train\n",
        "train"
      ]
    },
    {
      "cell_type": "code",
      "execution_count": null,
      "id": "12410df2",
      "metadata": {
        "id": "12410df2",
        "outputId": "58a1420d-f463-4a4d-8e64-cc2cfe5b4265"
      },
      "outputs": [
        {
          "name": "stdout",
          "output_type": "stream",
          "text": [
            "<class 'pandas.core.frame.DataFrame'>\n",
            "RangeIndex: 40506 entries, 0 to 40505\n",
            "Columns: 129 entries, Equipment_Dam to target\n",
            "dtypes: float64(66), int64(48), object(15)\n",
            "memory usage: 39.9+ MB\n"
          ]
        }
      ],
      "source": [
        "real_train = train.T.drop_duplicates().T\n",
        "common_columns = real_train.columns.intersection(train.columns)\n",
        "real_train = real_train.astype(train[common_columns].dtypes)\n",
        "real_train.info()"
      ]
    },
    {
      "cell_type": "code",
      "execution_count": null,
      "id": "e83d9e58",
      "metadata": {
        "id": "e83d9e58"
      },
      "outputs": [],
      "source": [
        "train = real_train"
      ]
    },
    {
      "cell_type": "code",
      "execution_count": null,
      "id": "412f34ec",
      "metadata": {
        "id": "412f34ec"
      },
      "outputs": [],
      "source": [
        "test = test[train.columns]"
      ]
    },
    {
      "cell_type": "code",
      "execution_count": null,
      "id": "b8c06ca1",
      "metadata": {
        "id": "b8c06ca1"
      },
      "outputs": [],
      "source": [
        "# 'CURE END POSITION'이라는 문자열이 포함된 열들의 목록 가져오기\n",
        "cure_end_position_cols = [col for col in train.columns if 'CURE END POSITION' in col]\n",
        "\n",
        "# 새로운 'CURE END POSITION' 열의 위치 찾기\n",
        "cols = list(train.columns)\n",
        "cure_end_position_idx = next((i for i, col in enumerate(cols) if 'CURE END POSITION' in col), None)\n",
        "\n",
        "# 해당 위치에 새로운 'CURE END POSITION' 열 추가\n",
        "if cure_end_position_idx is not None:\n",
        "    train.insert(cure_end_position_idx, 'CURE END POSITION', train[cure_end_position_cols].sum(axis=1))\n",
        "else:\n",
        "    train['CURE END POSITION'] = train[cure_end_position_cols].sum(axis=1)\n",
        "\n",
        "# 기존 'CURE END POSITION' 관련 열들 삭제\n",
        "train = train.drop(cure_end_position_cols, axis=1)"
      ]
    },
    {
      "cell_type": "code",
      "execution_count": null,
      "id": "ad083eb3",
      "metadata": {
        "id": "ad083eb3"
      },
      "outputs": [],
      "source": [
        "# 'CURE END POSITION'이라는 문자열이 포함된 열들의 목록 가져오기\n",
        "cure_end_position_cols = [col for col in train.columns if 'HEAD Standby Position' in col]\n",
        "\n",
        "\n",
        "# 새로운 'HEAD Standby Position' 열의 위치 찾기\n",
        "cols = list(train.columns)\n",
        "cure_end_position_idx = next((i for i, col in enumerate(cols) if 'HEAD Standby Position' in col), None)\n",
        "\n",
        "# 해당 위치에 새로운 'HEAD Standby Position' 열 추가\n",
        "if cure_end_position_idx is not None:\n",
        "    train.insert(cure_end_position_idx, 'HEAD Standby Position', train[cure_end_position_cols].sum(axis=1))\n",
        "else:\n",
        "    train['HEAD Standby Position'] = train[cure_end_position_cols].sum(axis=1)\n",
        "\n",
        "# 기존 'HEAD Standby Position' 관련 열들 삭제\n",
        "train = train.drop(cure_end_position_cols, axis=1)"
      ]
    },
    {
      "cell_type": "code",
      "execution_count": null,
      "id": "bb9cb4de",
      "metadata": {
        "id": "bb9cb4de"
      },
      "outputs": [],
      "source": [
        "# 'Head Clean Position'이라는 문자열이 포함된 열들의 목록 가져오기\n",
        "cure_end_position_cols = [col for col in train.columns if 'Head Clean Position' in col]\n",
        "\n",
        "# 새로운 'Head Clean Position' 열의 위치 찾기\n",
        "cols = list(train.columns)\n",
        "cure_end_position_idx = next((i for i, col in enumerate(cols) if 'Head Clean Position' in col), None)\n",
        "\n",
        "# 해당 위치에 새로운 'Head Clean Position' 열 추가\n",
        "if cure_end_position_idx is not None:\n",
        "    train.insert(cure_end_position_idx, 'Head Clean Position', train[cure_end_position_cols].sum(axis=1))\n",
        "else:\n",
        "    train['Head Clean Position'] = train[cure_end_position_cols].sum(axis=1)\n",
        "\n",
        "# 기존 'Head Clean Position' 관련 열들 삭제\n",
        "train = train.drop(cure_end_position_cols, axis=1)"
      ]
    },
    {
      "cell_type": "code",
      "execution_count": null,
      "id": "b2568dae",
      "metadata": {
        "id": "b2568dae"
      },
      "outputs": [],
      "source": [
        "cure_end_position_cols = [col for col in train.columns if 'CURE START POSITION' in col]\n",
        "\n",
        "# 새로운 'CURE START POSITION' 열의 위치 찾기\n",
        "cols = list(train.columns)\n",
        "cure_end_position_idx = next((i for i, col in enumerate(cols) if 'CURE START POSITION' in col), None)\n",
        "\n",
        "# 해당 위치에 새로운 'CURE START POSITION' 열 추가\n",
        "if cure_end_position_idx is not None:\n",
        "    train.insert(cure_end_position_idx, 'CURE START POSITION', train[cure_end_position_cols].sum(axis=1))\n",
        "else:\n",
        "    train['CURE START POSITION'] = train[cure_end_position_cols].sum(axis=1)\n",
        "\n",
        "# 기존 'CURE START POSITION' 관련 열들 삭제\n",
        "train = train.drop(cure_end_position_cols, axis=1)"
      ]
    },
    {
      "cell_type": "code",
      "execution_count": null,
      "id": "3dff97ec",
      "metadata": {
        "id": "3dff97ec"
      },
      "outputs": [],
      "source": [
        "cure_end_position_cols = [col for col in train.columns if 'CURE SPEED Collect' in col]\n",
        "\n",
        "\n",
        "# 새로운 'CURE SPEED Collect' 열의 위치 찾기\n",
        "cols = list(train.columns)\n",
        "cure_end_position_idx = next((i for i, col in enumerate(cols) if 'CURE SPEED Collect' in col), None)\n",
        "\n",
        "# 해당 위치에 새로운 'CURE SPEED Collect' 열 추가\n",
        "if cure_end_position_idx is not None:\n",
        "    train.insert(cure_end_position_idx, 'CURE SPEED Collect', train[cure_end_position_cols].sum(axis=1))\n",
        "else:\n",
        "    train['CURE SPEED Collect'] = train[cure_end_position_cols].sum(axis=1)\n",
        "\n",
        "# 기존 'CURE SPEED Collect' 관련 열들 삭제\n",
        "train = train.drop(cure_end_position_cols, axis=1)"
      ]
    },
    {
      "cell_type": "code",
      "execution_count": null,
      "id": "502c2c83",
      "metadata": {
        "id": "502c2c83",
        "outputId": "9b3b5682-3c9d-4f6f-a5f8-918202f2db70"
      },
      "outputs": [
        {
          "data": {
            "text/html": [
              "<div>\n",
              "<style scoped>\n",
              "    .dataframe tbody tr th:only-of-type {\n",
              "        vertical-align: middle;\n",
              "    }\n",
              "\n",
              "    .dataframe tbody tr th {\n",
              "        vertical-align: top;\n",
              "    }\n",
              "\n",
              "    .dataframe thead th {\n",
              "        text-align: right;\n",
              "    }\n",
              "</style>\n",
              "<table border=\"1\" class=\"dataframe\">\n",
              "  <thead>\n",
              "    <tr style=\"text-align: right;\">\n",
              "      <th></th>\n",
              "      <th>Equipment_Dam</th>\n",
              "      <th>Model.Suffix_Dam</th>\n",
              "      <th>Workorder_Dam</th>\n",
              "      <th>Collect Date_Dam</th>\n",
              "      <th>CURE END POSITION</th>\n",
              "      <th>CURE SPEED Collect</th>\n",
              "      <th>CURE START POSITION</th>\n",
              "      <th>DISCHARGED SPEED OF RESIN Collect Result_Dam</th>\n",
              "      <th>DISCHARGED TIME OF RESIN(Stage1) Collect Result_Dam</th>\n",
              "      <th>DISCHARGED TIME OF RESIN(Stage2) Collect Result_Dam</th>\n",
              "      <th>...</th>\n",
              "      <th>HEAD NORMAL COORDINATE Z AXIS(Stage1) Collect Result_Fill2</th>\n",
              "      <th>HEAD NORMAL COORDINATE Z AXIS(Stage2) Collect Result_Fill2</th>\n",
              "      <th>Head Purge Position X Collect Result_Fill2</th>\n",
              "      <th>Head Purge Position Z Collect Result_Fill2</th>\n",
              "      <th>Machine Tact time Collect Result_Fill2</th>\n",
              "      <th>PalletID Collect Result_Fill2</th>\n",
              "      <th>Production Qty Collect Result_Fill2</th>\n",
              "      <th>Receip No Collect Result_Fill2</th>\n",
              "      <th>WorkMode Collect Result_Fill2</th>\n",
              "      <th>target</th>\n",
              "    </tr>\n",
              "  </thead>\n",
              "  <tbody>\n",
              "    <tr>\n",
              "      <th>0</th>\n",
              "      <td>Dam dispenser #1</td>\n",
              "      <td>AJX75334505</td>\n",
              "      <td>4F1XA938-1</td>\n",
              "      <td>2024-04-25 11:10:00</td>\n",
              "      <td>425.5</td>\n",
              "      <td>148</td>\n",
              "      <td>2050</td>\n",
              "      <td>16</td>\n",
              "      <td>14.9</td>\n",
              "      <td>8.4</td>\n",
              "      <td>...</td>\n",
              "      <td>428.0</td>\n",
              "      <td>243.7</td>\n",
              "      <td>91.8</td>\n",
              "      <td>50</td>\n",
              "      <td>114.612</td>\n",
              "      <td>19.9</td>\n",
              "      <td>7</td>\n",
              "      <td>127</td>\n",
              "      <td>1</td>\n",
              "      <td>Normal</td>\n",
              "    </tr>\n",
              "    <tr>\n",
              "      <th>1</th>\n",
              "      <td>Dam dispenser #1</td>\n",
              "      <td>AJX75334505</td>\n",
              "      <td>3KPM0016-2</td>\n",
              "      <td>2023-09-19 14:30:00</td>\n",
              "      <td>425.5</td>\n",
              "      <td>120</td>\n",
              "      <td>2050</td>\n",
              "      <td>10</td>\n",
              "      <td>21.3</td>\n",
              "      <td>4.9</td>\n",
              "      <td>...</td>\n",
              "      <td>243.7</td>\n",
              "      <td>243.7</td>\n",
              "      <td>270.0</td>\n",
              "      <td>85</td>\n",
              "      <td>19.600</td>\n",
              "      <td>7.0</td>\n",
              "      <td>185</td>\n",
              "      <td>1</td>\n",
              "      <td>0</td>\n",
              "      <td>Normal</td>\n",
              "    </tr>\n",
              "    <tr>\n",
              "      <th>2</th>\n",
              "      <td>Dam dispenser #2</td>\n",
              "      <td>AJX75334501</td>\n",
              "      <td>4E1X9167-1</td>\n",
              "      <td>2024-03-05 09:30:00</td>\n",
              "      <td>1375.5</td>\n",
              "      <td>135</td>\n",
              "      <td>1300</td>\n",
              "      <td>16</td>\n",
              "      <td>14.7</td>\n",
              "      <td>8.5</td>\n",
              "      <td>...</td>\n",
              "      <td>1324.2</td>\n",
              "      <td>243.5</td>\n",
              "      <td>91.8</td>\n",
              "      <td>50</td>\n",
              "      <td>114.612</td>\n",
              "      <td>19.8</td>\n",
              "      <td>10</td>\n",
              "      <td>73</td>\n",
              "      <td>1</td>\n",
              "      <td>Normal</td>\n",
              "    </tr>\n",
              "    <tr>\n",
              "      <th>3</th>\n",
              "      <td>Dam dispenser #2</td>\n",
              "      <td>AJX75334501</td>\n",
              "      <td>3K1X0057-1</td>\n",
              "      <td>2023-09-25 15:40:00</td>\n",
              "      <td>1375.5</td>\n",
              "      <td>120</td>\n",
              "      <td>1300</td>\n",
              "      <td>10</td>\n",
              "      <td>21.3</td>\n",
              "      <td>8.4</td>\n",
              "      <td>...</td>\n",
              "      <td>243.5</td>\n",
              "      <td>243.5</td>\n",
              "      <td>270.0</td>\n",
              "      <td>85</td>\n",
              "      <td>19.900</td>\n",
              "      <td>12.0</td>\n",
              "      <td>268</td>\n",
              "      <td>1</td>\n",
              "      <td>0</td>\n",
              "      <td>Normal</td>\n",
              "    </tr>\n",
              "    <tr>\n",
              "      <th>4</th>\n",
              "      <td>Dam dispenser #1</td>\n",
              "      <td>AJX75334501</td>\n",
              "      <td>3HPM0007-1</td>\n",
              "      <td>2023-06-27 13:20:00</td>\n",
              "      <td>424.5</td>\n",
              "      <td>120</td>\n",
              "      <td>2050</td>\n",
              "      <td>10</td>\n",
              "      <td>9.7</td>\n",
              "      <td>4.9</td>\n",
              "      <td>...</td>\n",
              "      <td>243.7</td>\n",
              "      <td>243.7</td>\n",
              "      <td>270.0</td>\n",
              "      <td>85</td>\n",
              "      <td>19.700</td>\n",
              "      <td>8.0</td>\n",
              "      <td>121</td>\n",
              "      <td>1</td>\n",
              "      <td>0</td>\n",
              "      <td>Normal</td>\n",
              "    </tr>\n",
              "    <tr>\n",
              "      <th>...</th>\n",
              "      <td>...</td>\n",
              "      <td>...</td>\n",
              "      <td>...</td>\n",
              "      <td>...</td>\n",
              "      <td>...</td>\n",
              "      <td>...</td>\n",
              "      <td>...</td>\n",
              "      <td>...</td>\n",
              "      <td>...</td>\n",
              "      <td>...</td>\n",
              "      <td>...</td>\n",
              "      <td>...</td>\n",
              "      <td>...</td>\n",
              "      <td>...</td>\n",
              "      <td>...</td>\n",
              "      <td>...</td>\n",
              "      <td>...</td>\n",
              "      <td>...</td>\n",
              "      <td>...</td>\n",
              "      <td>...</td>\n",
              "      <td>...</td>\n",
              "    </tr>\n",
              "    <tr>\n",
              "      <th>40501</th>\n",
              "      <td>Dam dispenser #1</td>\n",
              "      <td>AJX75334501</td>\n",
              "      <td>3J1XF434-2</td>\n",
              "      <td>2023-09-14 15:50:00</td>\n",
              "      <td>425.5</td>\n",
              "      <td>120</td>\n",
              "      <td>2050</td>\n",
              "      <td>10</td>\n",
              "      <td>17.0</td>\n",
              "      <td>5.0</td>\n",
              "      <td>...</td>\n",
              "      <td>243.7</td>\n",
              "      <td>243.7</td>\n",
              "      <td>270.0</td>\n",
              "      <td>85</td>\n",
              "      <td>19.200</td>\n",
              "      <td>1.0</td>\n",
              "      <td>318</td>\n",
              "      <td>1</td>\n",
              "      <td>0</td>\n",
              "      <td>Normal</td>\n",
              "    </tr>\n",
              "    <tr>\n",
              "      <th>40502</th>\n",
              "      <td>Dam dispenser #2</td>\n",
              "      <td>AJX75334501</td>\n",
              "      <td>4E1XC796-1</td>\n",
              "      <td>2024-04-10 14:20:00</td>\n",
              "      <td>1375.5</td>\n",
              "      <td>148</td>\n",
              "      <td>1300</td>\n",
              "      <td>16</td>\n",
              "      <td>14.9</td>\n",
              "      <td>8.5</td>\n",
              "      <td>...</td>\n",
              "      <td>1324.2</td>\n",
              "      <td>243.5</td>\n",
              "      <td>91.8</td>\n",
              "      <td>50</td>\n",
              "      <td>114.612</td>\n",
              "      <td>20.5</td>\n",
              "      <td>14</td>\n",
              "      <td>197</td>\n",
              "      <td>1</td>\n",
              "      <td>Normal</td>\n",
              "    </tr>\n",
              "    <tr>\n",
              "      <th>40503</th>\n",
              "      <td>Dam dispenser #1</td>\n",
              "      <td>AJX75334501</td>\n",
              "      <td>4C1XD438-1</td>\n",
              "      <td>2024-02-22 08:40:00</td>\n",
              "      <td>425.5</td>\n",
              "      <td>150</td>\n",
              "      <td>2050</td>\n",
              "      <td>16</td>\n",
              "      <td>14.2</td>\n",
              "      <td>8.2</td>\n",
              "      <td>...</td>\n",
              "      <td>428.0</td>\n",
              "      <td>243.7</td>\n",
              "      <td>91.8</td>\n",
              "      <td>50</td>\n",
              "      <td>85.000</td>\n",
              "      <td>19.7</td>\n",
              "      <td>1</td>\n",
              "      <td>27</td>\n",
              "      <td>1</td>\n",
              "      <td>Normal</td>\n",
              "    </tr>\n",
              "    <tr>\n",
              "      <th>40504</th>\n",
              "      <td>Dam dispenser #2</td>\n",
              "      <td>AJX75334501</td>\n",
              "      <td>3I1XA258-1</td>\n",
              "      <td>2023-07-25 11:00:00</td>\n",
              "      <td>1375.5</td>\n",
              "      <td>120</td>\n",
              "      <td>1300</td>\n",
              "      <td>10</td>\n",
              "      <td>9.7</td>\n",
              "      <td>4.9</td>\n",
              "      <td>...</td>\n",
              "      <td>243.5</td>\n",
              "      <td>243.5</td>\n",
              "      <td>270.0</td>\n",
              "      <td>85</td>\n",
              "      <td>20.100</td>\n",
              "      <td>13.0</td>\n",
              "      <td>117</td>\n",
              "      <td>1</td>\n",
              "      <td>0</td>\n",
              "      <td>Normal</td>\n",
              "    </tr>\n",
              "    <tr>\n",
              "      <th>40505</th>\n",
              "      <td>Dam dispenser #1</td>\n",
              "      <td>AJX75334501</td>\n",
              "      <td>3G1XA501-1</td>\n",
              "      <td>2023-05-31 01:40:00</td>\n",
              "      <td>424.5</td>\n",
              "      <td>120</td>\n",
              "      <td>2050</td>\n",
              "      <td>10</td>\n",
              "      <td>9.6</td>\n",
              "      <td>3.9</td>\n",
              "      <td>...</td>\n",
              "      <td>243.7</td>\n",
              "      <td>243.7</td>\n",
              "      <td>270.0</td>\n",
              "      <td>85</td>\n",
              "      <td>19.400</td>\n",
              "      <td>3.0</td>\n",
              "      <td>320</td>\n",
              "      <td>1</td>\n",
              "      <td>0</td>\n",
              "      <td>AbNormal</td>\n",
              "    </tr>\n",
              "  </tbody>\n",
              "</table>\n",
              "<p>40506 rows × 107 columns</p>\n",
              "</div>"
            ],
            "text/plain": [
              "          Equipment_Dam Model.Suffix_Dam Workorder_Dam     Collect Date_Dam  \\\n",
              "0      Dam dispenser #1      AJX75334505    4F1XA938-1  2024-04-25 11:10:00   \n",
              "1      Dam dispenser #1      AJX75334505    3KPM0016-2  2023-09-19 14:30:00   \n",
              "2      Dam dispenser #2      AJX75334501    4E1X9167-1  2024-03-05 09:30:00   \n",
              "3      Dam dispenser #2      AJX75334501    3K1X0057-1  2023-09-25 15:40:00   \n",
              "4      Dam dispenser #1      AJX75334501    3HPM0007-1  2023-06-27 13:20:00   \n",
              "...                 ...              ...           ...                  ...   \n",
              "40501  Dam dispenser #1      AJX75334501    3J1XF434-2  2023-09-14 15:50:00   \n",
              "40502  Dam dispenser #2      AJX75334501    4E1XC796-1  2024-04-10 14:20:00   \n",
              "40503  Dam dispenser #1      AJX75334501    4C1XD438-1  2024-02-22 08:40:00   \n",
              "40504  Dam dispenser #2      AJX75334501    3I1XA258-1  2023-07-25 11:00:00   \n",
              "40505  Dam dispenser #1      AJX75334501    3G1XA501-1  2023-05-31 01:40:00   \n",
              "\n",
              "       CURE END POSITION  CURE SPEED Collect  CURE START POSITION  \\\n",
              "0                  425.5                 148                 2050   \n",
              "1                  425.5                 120                 2050   \n",
              "2                 1375.5                 135                 1300   \n",
              "3                 1375.5                 120                 1300   \n",
              "4                  424.5                 120                 2050   \n",
              "...                  ...                 ...                  ...   \n",
              "40501              425.5                 120                 2050   \n",
              "40502             1375.5                 148                 1300   \n",
              "40503              425.5                 150                 2050   \n",
              "40504             1375.5                 120                 1300   \n",
              "40505              424.5                 120                 2050   \n",
              "\n",
              "       DISCHARGED SPEED OF RESIN Collect Result_Dam  \\\n",
              "0                                                16   \n",
              "1                                                10   \n",
              "2                                                16   \n",
              "3                                                10   \n",
              "4                                                10   \n",
              "...                                             ...   \n",
              "40501                                            10   \n",
              "40502                                            16   \n",
              "40503                                            16   \n",
              "40504                                            10   \n",
              "40505                                            10   \n",
              "\n",
              "       DISCHARGED TIME OF RESIN(Stage1) Collect Result_Dam  \\\n",
              "0                                                   14.9     \n",
              "1                                                   21.3     \n",
              "2                                                   14.7     \n",
              "3                                                   21.3     \n",
              "4                                                    9.7     \n",
              "...                                                  ...     \n",
              "40501                                               17.0     \n",
              "40502                                               14.9     \n",
              "40503                                               14.2     \n",
              "40504                                                9.7     \n",
              "40505                                                9.6     \n",
              "\n",
              "       DISCHARGED TIME OF RESIN(Stage2) Collect Result_Dam  ...  \\\n",
              "0                                                    8.4    ...   \n",
              "1                                                    4.9    ...   \n",
              "2                                                    8.5    ...   \n",
              "3                                                    8.4    ...   \n",
              "4                                                    4.9    ...   \n",
              "...                                                  ...    ...   \n",
              "40501                                                5.0    ...   \n",
              "40502                                                8.5    ...   \n",
              "40503                                                8.2    ...   \n",
              "40504                                                4.9    ...   \n",
              "40505                                                3.9    ...   \n",
              "\n",
              "       HEAD NORMAL COORDINATE Z AXIS(Stage1) Collect Result_Fill2  \\\n",
              "0                                                  428.0            \n",
              "1                                                  243.7            \n",
              "2                                                 1324.2            \n",
              "3                                                  243.5            \n",
              "4                                                  243.7            \n",
              "...                                                  ...            \n",
              "40501                                              243.7            \n",
              "40502                                             1324.2            \n",
              "40503                                              428.0            \n",
              "40504                                              243.5            \n",
              "40505                                              243.7            \n",
              "\n",
              "       HEAD NORMAL COORDINATE Z AXIS(Stage2) Collect Result_Fill2  \\\n",
              "0                                                  243.7            \n",
              "1                                                  243.7            \n",
              "2                                                  243.5            \n",
              "3                                                  243.5            \n",
              "4                                                  243.7            \n",
              "...                                                  ...            \n",
              "40501                                              243.7            \n",
              "40502                                              243.5            \n",
              "40503                                              243.7            \n",
              "40504                                              243.5            \n",
              "40505                                              243.7            \n",
              "\n",
              "       Head Purge Position X Collect Result_Fill2  \\\n",
              "0                                            91.8   \n",
              "1                                           270.0   \n",
              "2                                            91.8   \n",
              "3                                           270.0   \n",
              "4                                           270.0   \n",
              "...                                           ...   \n",
              "40501                                       270.0   \n",
              "40502                                        91.8   \n",
              "40503                                        91.8   \n",
              "40504                                       270.0   \n",
              "40505                                       270.0   \n",
              "\n",
              "       Head Purge Position Z Collect Result_Fill2  \\\n",
              "0                                              50   \n",
              "1                                              85   \n",
              "2                                              50   \n",
              "3                                              85   \n",
              "4                                              85   \n",
              "...                                           ...   \n",
              "40501                                          85   \n",
              "40502                                          50   \n",
              "40503                                          50   \n",
              "40504                                          85   \n",
              "40505                                          85   \n",
              "\n",
              "      Machine Tact time Collect Result_Fill2 PalletID Collect Result_Fill2  \\\n",
              "0                                    114.612                          19.9   \n",
              "1                                     19.600                           7.0   \n",
              "2                                    114.612                          19.8   \n",
              "3                                     19.900                          12.0   \n",
              "4                                     19.700                           8.0   \n",
              "...                                      ...                           ...   \n",
              "40501                                 19.200                           1.0   \n",
              "40502                                114.612                          20.5   \n",
              "40503                                 85.000                          19.7   \n",
              "40504                                 20.100                          13.0   \n",
              "40505                                 19.400                           3.0   \n",
              "\n",
              "       Production Qty Collect Result_Fill2  Receip No Collect Result_Fill2  \\\n",
              "0                                        7                             127   \n",
              "1                                      185                               1   \n",
              "2                                       10                              73   \n",
              "3                                      268                               1   \n",
              "4                                      121                               1   \n",
              "...                                    ...                             ...   \n",
              "40501                                  318                               1   \n",
              "40502                                   14                             197   \n",
              "40503                                    1                              27   \n",
              "40504                                  117                               1   \n",
              "40505                                  320                               1   \n",
              "\n",
              "       WorkMode Collect Result_Fill2    target  \n",
              "0                                  1    Normal  \n",
              "1                                  0    Normal  \n",
              "2                                  1    Normal  \n",
              "3                                  0    Normal  \n",
              "4                                  0    Normal  \n",
              "...                              ...       ...  \n",
              "40501                              0    Normal  \n",
              "40502                              1    Normal  \n",
              "40503                              1    Normal  \n",
              "40504                              0    Normal  \n",
              "40505                              0  AbNormal  \n",
              "\n",
              "[40506 rows x 107 columns]"
            ]
          },
          "execution_count": 18,
          "metadata": {},
          "output_type": "execute_result"
        }
      ],
      "source": [
        "train"
      ]
    },
    {
      "cell_type": "markdown",
      "id": "dce5b850",
      "metadata": {
        "id": "dce5b850"
      },
      "source": [
        "### TEST"
      ]
    },
    {
      "cell_type": "code",
      "execution_count": null,
      "id": "59cbd7bd",
      "metadata": {
        "id": "59cbd7bd"
      },
      "outputs": [],
      "source": [
        "drop_cols = []\n",
        "for i in range(len(test.columns)):\n",
        "    if len(test.iloc[:,i].unique()) == 1:\n",
        "        drop_cols.append(test.columns[i])\n",
        "test = test.drop(drop_cols, axis=1)"
      ]
    },
    {
      "cell_type": "code",
      "execution_count": null,
      "id": "1e3a1fd7",
      "metadata": {
        "id": "1e3a1fd7"
      },
      "outputs": [],
      "source": [
        "    # Drop columns with more than half of the values missing\n",
        "    drop_cols = []\n",
        "    for column in test.columns:\n",
        "        if (test[column].notnull().sum() // 5) < test[\n",
        "            column\n",
        "        ].isnull().sum():\n",
        "            drop_cols.append(column)\n",
        "\n",
        "    test[drop_cols] = test[drop_cols].fillna(0)\n",
        "\n",
        "    test = test"
      ]
    },
    {
      "cell_type": "code",
      "execution_count": null,
      "id": "ce6ca5c7",
      "metadata": {
        "id": "ce6ca5c7"
      },
      "outputs": [],
      "source": [
        "# 'CURE END POSITION'이라는 문자열이 포함된 열들의 목록 가져오기\n",
        "cure_end_position_cols = [col for col in test.columns if 'CURE END POSITION' in col]\n",
        "\n",
        "# 새로운 'CURE END POSITION' 열의 위치 찾기\n",
        "cols = list(test.columns)\n",
        "cure_end_position_idx = next((i for i, col in enumerate(cols) if 'CURE END POSITION' in col), None)\n",
        "\n",
        "# 해당 위치에 새로운 'CURE END POSITION' 열 추가\n",
        "if cure_end_position_idx is not None:\n",
        "    test.insert(cure_end_position_idx, 'CURE END POSITION', test[cure_end_position_cols].sum(axis=1))\n",
        "else:\n",
        "    test['CURE END POSITION'] = test[cure_end_position_cols].sum(axis=1)\n",
        "\n",
        "# 기존 'CURE END POSITION' 관련 열들 삭제\n",
        "test = test.drop(cure_end_position_cols, axis=1)"
      ]
    },
    {
      "cell_type": "code",
      "execution_count": null,
      "id": "949d2361",
      "metadata": {
        "id": "949d2361"
      },
      "outputs": [],
      "source": [
        "# 'CURE END POSITION'이라는 문자열이 포함된 열들의 목록 가져오기\n",
        "cure_end_position_cols = [col for col in test.columns if 'HEAD Standby Position' in col]\n",
        "\n",
        "\n",
        "# 새로운 'HEAD Standby Position' 열의 위치 찾기\n",
        "cols = list(test.columns)\n",
        "cure_end_position_idx = next((i for i, col in enumerate(cols) if 'HEAD Standby Position' in col), None)\n",
        "\n",
        "# 해당 위치에 새로운 'HEAD Standby Position' 열 추가\n",
        "if cure_end_position_idx is not None:\n",
        "    test.insert(cure_end_position_idx, 'HEAD Standby Position', test[cure_end_position_cols].sum(axis=1))\n",
        "else:\n",
        "    test['HEAD Standby Position'] = test[cure_end_position_cols].sum(axis=1)\n",
        "\n",
        "# 기존 'HEAD Standby Position' 관련 열들 삭제\n",
        "test = test.drop(cure_end_position_cols, axis=1)"
      ]
    },
    {
      "cell_type": "code",
      "execution_count": null,
      "id": "65a80914",
      "metadata": {
        "id": "65a80914"
      },
      "outputs": [],
      "source": [
        "# 'Head Clean Position'이라는 문자열이 포함된 열들의 목록 가져오기\n",
        "cure_end_position_cols = [col for col in test.columns if 'Head Clean Position' in col]\n",
        "\n",
        "# 새로운 'Head Clean Position' 열의 위치 찾기\n",
        "cols = list(test.columns)\n",
        "cure_end_position_idx = next((i for i, col in enumerate(cols) if 'Head Clean Position' in col), None)\n",
        "\n",
        "# 해당 위치에 새로운 'Head Clean Position' 열 추가\n",
        "if cure_end_position_idx is not None:\n",
        "    test.insert(cure_end_position_idx, 'Head Clean Position', test[cure_end_position_cols].sum(axis=1))\n",
        "else:\n",
        "    test['Head Clean Position'] = test[cure_end_position_cols].sum(axis=1)\n",
        "\n",
        "# 기존 'Head Clean Position' 관련 열들 삭제\n",
        "test = test.drop(cure_end_position_cols, axis=1)"
      ]
    },
    {
      "cell_type": "code",
      "execution_count": null,
      "id": "9bed2cce",
      "metadata": {
        "id": "9bed2cce"
      },
      "outputs": [],
      "source": [
        "cure_end_position_cols = [col for col in test.columns if 'CURE START POSITION' in col]\n",
        "\n",
        "# 새로운 'CURE START POSITION' 열의 위치 찾기\n",
        "cols = list(test.columns)\n",
        "cure_end_position_idx = next((i for i, col in enumerate(cols) if 'CURE START POSITION' in col), None)\n",
        "\n",
        "# 해당 위치에 새로운 'CURE START POSITION' 열 추가\n",
        "if cure_end_position_idx is not None:\n",
        "    test.insert(cure_end_position_idx, 'CURE START POSITION', test[cure_end_position_cols].sum(axis=1))\n",
        "else:\n",
        "    test['CURE START POSITION'] = test[cure_end_position_cols].sum(axis=1)\n",
        "\n",
        "# 기존 'CURE START POSITION' 관련 열들 삭제\n",
        "test = test.drop(cure_end_position_cols, axis=1)"
      ]
    },
    {
      "cell_type": "code",
      "execution_count": null,
      "id": "8642b53b",
      "metadata": {
        "id": "8642b53b"
      },
      "outputs": [],
      "source": [
        "cure_end_position_cols = [col for col in test.columns if 'CURE SPEED Collect' in col]\n",
        "\n",
        "\n",
        "# 새로운 'CURE SPEED Collect' 열의 위치 찾기\n",
        "cols = list(test.columns)\n",
        "cure_end_position_idx = next((i for i, col in enumerate(cols) if 'CURE SPEED Collect' in col), None)\n",
        "\n",
        "# 해당 위치에 새로운 'CURE SPEED Collect' 열 추가\n",
        "if cure_end_position_idx is not None:\n",
        "    test.insert(cure_end_position_idx, 'CURE SPEED Collect', test[cure_end_position_cols].sum(axis=1))\n",
        "else:\n",
        "    test['CURE SPEED Collect'] = test[cure_end_position_cols].sum(axis=1)\n",
        "\n",
        "# 기존 'CURE SPEED Collect' 관련 열들 삭제\n",
        "test = test.drop(cure_end_position_cols, axis=1)"
      ]
    },
    {
      "cell_type": "code",
      "execution_count": null,
      "id": "43e67000",
      "metadata": {
        "id": "43e67000",
        "outputId": "48aed4d7-827a-4b6b-88a3-d898a817b8ff"
      },
      "outputs": [
        {
          "data": {
            "text/html": [
              "<div>\n",
              "<style scoped>\n",
              "    .dataframe tbody tr th:only-of-type {\n",
              "        vertical-align: middle;\n",
              "    }\n",
              "\n",
              "    .dataframe tbody tr th {\n",
              "        vertical-align: top;\n",
              "    }\n",
              "\n",
              "    .dataframe thead th {\n",
              "        text-align: right;\n",
              "    }\n",
              "</style>\n",
              "<table border=\"1\" class=\"dataframe\">\n",
              "  <thead>\n",
              "    <tr style=\"text-align: right;\">\n",
              "      <th></th>\n",
              "      <th>Equipment_Dam</th>\n",
              "      <th>Model.Suffix_Dam</th>\n",
              "      <th>Workorder_Dam</th>\n",
              "      <th>Collect Date_Dam</th>\n",
              "      <th>CURE END POSITION</th>\n",
              "      <th>CURE SPEED Collect</th>\n",
              "      <th>CURE START POSITION</th>\n",
              "      <th>DISCHARGED SPEED OF RESIN Collect Result_Dam</th>\n",
              "      <th>DISCHARGED TIME OF RESIN(Stage1) Collect Result_Dam</th>\n",
              "      <th>DISCHARGED TIME OF RESIN(Stage2) Collect Result_Dam</th>\n",
              "      <th>...</th>\n",
              "      <th>HEAD NORMAL COORDINATE Y AXIS(Stage3) Collect Result_Fill2</th>\n",
              "      <th>HEAD NORMAL COORDINATE Z AXIS(Stage1) Collect Result_Fill2</th>\n",
              "      <th>HEAD NORMAL COORDINATE Z AXIS(Stage2) Collect Result_Fill2</th>\n",
              "      <th>Head Purge Position X Collect Result_Fill2</th>\n",
              "      <th>Head Purge Position Z Collect Result_Fill2</th>\n",
              "      <th>Machine Tact time Collect Result_Fill2</th>\n",
              "      <th>PalletID Collect Result_Fill2</th>\n",
              "      <th>Production Qty Collect Result_Fill2</th>\n",
              "      <th>Receip No Collect Result_Fill2</th>\n",
              "      <th>WorkMode Collect Result_Fill2</th>\n",
              "    </tr>\n",
              "  </thead>\n",
              "  <tbody>\n",
              "    <tr>\n",
              "      <th>0</th>\n",
              "      <td>Dam dispenser #2</td>\n",
              "      <td>AJX75334501</td>\n",
              "      <td>3J1XF767-1</td>\n",
              "      <td>2023-09-15 13:20:00</td>\n",
              "      <td>1375.5</td>\n",
              "      <td>120</td>\n",
              "      <td>1300</td>\n",
              "      <td>10</td>\n",
              "      <td>17.0</td>\n",
              "      <td>4.9</td>\n",
              "      <td>...</td>\n",
              "      <td>1324.2</td>\n",
              "      <td>243.5</td>\n",
              "      <td>243.5</td>\n",
              "      <td>270.0</td>\n",
              "      <td>85</td>\n",
              "      <td>19.8</td>\n",
              "      <td>13.0</td>\n",
              "      <td>195</td>\n",
              "      <td>1</td>\n",
              "      <td>0</td>\n",
              "    </tr>\n",
              "    <tr>\n",
              "      <th>1</th>\n",
              "      <td>Dam dispenser #2</td>\n",
              "      <td>AJX75334501</td>\n",
              "      <td>4B1XD472-2</td>\n",
              "      <td>2024-02-06 16:50:00</td>\n",
              "      <td>1375.5</td>\n",
              "      <td>120</td>\n",
              "      <td>1300</td>\n",
              "      <td>16</td>\n",
              "      <td>14.2</td>\n",
              "      <td>8.3</td>\n",
              "      <td>...</td>\n",
              "      <td>1324.2</td>\n",
              "      <td>1324.2</td>\n",
              "      <td>243.5</td>\n",
              "      <td>91.8</td>\n",
              "      <td>50</td>\n",
              "      <td>85.0</td>\n",
              "      <td>19.8</td>\n",
              "      <td>14</td>\n",
              "      <td>256</td>\n",
              "      <td>1</td>\n",
              "    </tr>\n",
              "    <tr>\n",
              "      <th>2</th>\n",
              "      <td>Dam dispenser #1</td>\n",
              "      <td>AJX75334501</td>\n",
              "      <td>3H1XE355-1</td>\n",
              "      <td>2023-07-14 11:30:00</td>\n",
              "      <td>425.5</td>\n",
              "      <td>120</td>\n",
              "      <td>2050</td>\n",
              "      <td>10</td>\n",
              "      <td>9.7</td>\n",
              "      <td>4.9</td>\n",
              "      <td>...</td>\n",
              "      <td>428.0</td>\n",
              "      <td>243.7</td>\n",
              "      <td>243.7</td>\n",
              "      <td>270.0</td>\n",
              "      <td>85</td>\n",
              "      <td>19.7</td>\n",
              "      <td>1.0</td>\n",
              "      <td>98</td>\n",
              "      <td>1</td>\n",
              "      <td>0</td>\n",
              "    </tr>\n",
              "    <tr>\n",
              "      <th>3</th>\n",
              "      <td>Dam dispenser #2</td>\n",
              "      <td>AJX75334501</td>\n",
              "      <td>3L1XA128-1</td>\n",
              "      <td>2023-11-03 08:00:00</td>\n",
              "      <td>1375.5</td>\n",
              "      <td>120</td>\n",
              "      <td>1300</td>\n",
              "      <td>10</td>\n",
              "      <td>21.3</td>\n",
              "      <td>10.6</td>\n",
              "      <td>...</td>\n",
              "      <td>1324.2</td>\n",
              "      <td>1324.2</td>\n",
              "      <td>243.5</td>\n",
              "      <td>91.8</td>\n",
              "      <td>50</td>\n",
              "      <td>85.0</td>\n",
              "      <td>20.0</td>\n",
              "      <td>14</td>\n",
              "      <td>0</td>\n",
              "      <td>1</td>\n",
              "    </tr>\n",
              "    <tr>\n",
              "      <th>4</th>\n",
              "      <td>Dam dispenser #1</td>\n",
              "      <td>AJX75334501</td>\n",
              "      <td>4A1XA639-1</td>\n",
              "      <td>2023-12-23 14:00:00</td>\n",
              "      <td>425.5</td>\n",
              "      <td>120</td>\n",
              "      <td>2050</td>\n",
              "      <td>16</td>\n",
              "      <td>13.2</td>\n",
              "      <td>7.5</td>\n",
              "      <td>...</td>\n",
              "      <td>427.9</td>\n",
              "      <td>428.0</td>\n",
              "      <td>243.7</td>\n",
              "      <td>91.8</td>\n",
              "      <td>50</td>\n",
              "      <td>85.0</td>\n",
              "      <td>19.8</td>\n",
              "      <td>1</td>\n",
              "      <td>215</td>\n",
              "      <td>1</td>\n",
              "    </tr>\n",
              "    <tr>\n",
              "      <th>...</th>\n",
              "      <td>...</td>\n",
              "      <td>...</td>\n",
              "      <td>...</td>\n",
              "      <td>...</td>\n",
              "      <td>...</td>\n",
              "      <td>...</td>\n",
              "      <td>...</td>\n",
              "      <td>...</td>\n",
              "      <td>...</td>\n",
              "      <td>...</td>\n",
              "      <td>...</td>\n",
              "      <td>...</td>\n",
              "      <td>...</td>\n",
              "      <td>...</td>\n",
              "      <td>...</td>\n",
              "      <td>...</td>\n",
              "      <td>...</td>\n",
              "      <td>...</td>\n",
              "      <td>...</td>\n",
              "      <td>...</td>\n",
              "      <td>...</td>\n",
              "    </tr>\n",
              "    <tr>\n",
              "      <th>17356</th>\n",
              "      <td>Dam dispenser #2</td>\n",
              "      <td>AJX75334501</td>\n",
              "      <td>3K1XB597-1</td>\n",
              "      <td>2023-10-18 11:10:00</td>\n",
              "      <td>1375.5</td>\n",
              "      <td>120</td>\n",
              "      <td>1300</td>\n",
              "      <td>10</td>\n",
              "      <td>21.3</td>\n",
              "      <td>10.6</td>\n",
              "      <td>...</td>\n",
              "      <td>1324.2</td>\n",
              "      <td>1324.2</td>\n",
              "      <td>243.5</td>\n",
              "      <td>91.8</td>\n",
              "      <td>50</td>\n",
              "      <td>85.0</td>\n",
              "      <td>19.5</td>\n",
              "      <td>14</td>\n",
              "      <td>131</td>\n",
              "      <td>1</td>\n",
              "    </tr>\n",
              "    <tr>\n",
              "      <th>17357</th>\n",
              "      <td>Dam dispenser #2</td>\n",
              "      <td>AJX75334501</td>\n",
              "      <td>4A1XB974-1</td>\n",
              "      <td>2024-01-02 15:00:00</td>\n",
              "      <td>1375.5</td>\n",
              "      <td>120</td>\n",
              "      <td>1300</td>\n",
              "      <td>16</td>\n",
              "      <td>13.2</td>\n",
              "      <td>7.6</td>\n",
              "      <td>...</td>\n",
              "      <td>1324.2</td>\n",
              "      <td>1324.2</td>\n",
              "      <td>243.5</td>\n",
              "      <td>91.8</td>\n",
              "      <td>50</td>\n",
              "      <td>85.0</td>\n",
              "      <td>19.8</td>\n",
              "      <td>12</td>\n",
              "      <td>279</td>\n",
              "      <td>1</td>\n",
              "    </tr>\n",
              "    <tr>\n",
              "      <th>17358</th>\n",
              "      <td>Dam dispenser #1</td>\n",
              "      <td>AJX75334501</td>\n",
              "      <td>3L1XA998-1</td>\n",
              "      <td>2023-11-15 09:10:00</td>\n",
              "      <td>425.5</td>\n",
              "      <td>120</td>\n",
              "      <td>2050</td>\n",
              "      <td>16</td>\n",
              "      <td>13.2</td>\n",
              "      <td>6.6</td>\n",
              "      <td>...</td>\n",
              "      <td>427.9</td>\n",
              "      <td>428.0</td>\n",
              "      <td>243.7</td>\n",
              "      <td>91.8</td>\n",
              "      <td>50</td>\n",
              "      <td>85.0</td>\n",
              "      <td>20.5</td>\n",
              "      <td>4</td>\n",
              "      <td>66</td>\n",
              "      <td>1</td>\n",
              "    </tr>\n",
              "    <tr>\n",
              "      <th>17359</th>\n",
              "      <td>Dam dispenser #1</td>\n",
              "      <td>AJX75334501</td>\n",
              "      <td>3F1XC376-1</td>\n",
              "      <td>2023-05-18 14:20:00</td>\n",
              "      <td>424.5</td>\n",
              "      <td>121</td>\n",
              "      <td>2050</td>\n",
              "      <td>10</td>\n",
              "      <td>9.7</td>\n",
              "      <td>3.9</td>\n",
              "      <td>...</td>\n",
              "      <td>428.0</td>\n",
              "      <td>243.7</td>\n",
              "      <td>243.7</td>\n",
              "      <td>270.0</td>\n",
              "      <td>85</td>\n",
              "      <td>18.9</td>\n",
              "      <td>1.0</td>\n",
              "      <td>117</td>\n",
              "      <td>1</td>\n",
              "      <td>0</td>\n",
              "    </tr>\n",
              "    <tr>\n",
              "      <th>17360</th>\n",
              "      <td>Dam dispenser #1</td>\n",
              "      <td>AJX75334501</td>\n",
              "      <td>3J1XC756-1</td>\n",
              "      <td>2023-08-23 09:30:00</td>\n",
              "      <td>425.5</td>\n",
              "      <td>120</td>\n",
              "      <td>2050</td>\n",
              "      <td>10</td>\n",
              "      <td>17.0</td>\n",
              "      <td>4.9</td>\n",
              "      <td>...</td>\n",
              "      <td>428.0</td>\n",
              "      <td>243.7</td>\n",
              "      <td>243.7</td>\n",
              "      <td>270.0</td>\n",
              "      <td>85</td>\n",
              "      <td>19.3</td>\n",
              "      <td>2.0</td>\n",
              "      <td>71</td>\n",
              "      <td>1</td>\n",
              "      <td>0</td>\n",
              "    </tr>\n",
              "  </tbody>\n",
              "</table>\n",
              "<p>17361 rows × 106 columns</p>\n",
              "</div>"
            ],
            "text/plain": [
              "          Equipment_Dam Model.Suffix_Dam Workorder_Dam     Collect Date_Dam  \\\n",
              "0      Dam dispenser #2      AJX75334501    3J1XF767-1  2023-09-15 13:20:00   \n",
              "1      Dam dispenser #2      AJX75334501    4B1XD472-2  2024-02-06 16:50:00   \n",
              "2      Dam dispenser #1      AJX75334501    3H1XE355-1  2023-07-14 11:30:00   \n",
              "3      Dam dispenser #2      AJX75334501    3L1XA128-1  2023-11-03 08:00:00   \n",
              "4      Dam dispenser #1      AJX75334501    4A1XA639-1  2023-12-23 14:00:00   \n",
              "...                 ...              ...           ...                  ...   \n",
              "17356  Dam dispenser #2      AJX75334501    3K1XB597-1  2023-10-18 11:10:00   \n",
              "17357  Dam dispenser #2      AJX75334501    4A1XB974-1  2024-01-02 15:00:00   \n",
              "17358  Dam dispenser #1      AJX75334501    3L1XA998-1  2023-11-15 09:10:00   \n",
              "17359  Dam dispenser #1      AJX75334501    3F1XC376-1  2023-05-18 14:20:00   \n",
              "17360  Dam dispenser #1      AJX75334501    3J1XC756-1  2023-08-23 09:30:00   \n",
              "\n",
              "       CURE END POSITION  CURE SPEED Collect  CURE START POSITION  \\\n",
              "0                 1375.5                 120                 1300   \n",
              "1                 1375.5                 120                 1300   \n",
              "2                  425.5                 120                 2050   \n",
              "3                 1375.5                 120                 1300   \n",
              "4                  425.5                 120                 2050   \n",
              "...                  ...                 ...                  ...   \n",
              "17356             1375.5                 120                 1300   \n",
              "17357             1375.5                 120                 1300   \n",
              "17358              425.5                 120                 2050   \n",
              "17359              424.5                 121                 2050   \n",
              "17360              425.5                 120                 2050   \n",
              "\n",
              "       DISCHARGED SPEED OF RESIN Collect Result_Dam  \\\n",
              "0                                                10   \n",
              "1                                                16   \n",
              "2                                                10   \n",
              "3                                                10   \n",
              "4                                                16   \n",
              "...                                             ...   \n",
              "17356                                            10   \n",
              "17357                                            16   \n",
              "17358                                            16   \n",
              "17359                                            10   \n",
              "17360                                            10   \n",
              "\n",
              "       DISCHARGED TIME OF RESIN(Stage1) Collect Result_Dam  \\\n",
              "0                                                   17.0     \n",
              "1                                                   14.2     \n",
              "2                                                    9.7     \n",
              "3                                                   21.3     \n",
              "4                                                   13.2     \n",
              "...                                                  ...     \n",
              "17356                                               21.3     \n",
              "17357                                               13.2     \n",
              "17358                                               13.2     \n",
              "17359                                                9.7     \n",
              "17360                                               17.0     \n",
              "\n",
              "       DISCHARGED TIME OF RESIN(Stage2) Collect Result_Dam  ...  \\\n",
              "0                                                    4.9    ...   \n",
              "1                                                    8.3    ...   \n",
              "2                                                    4.9    ...   \n",
              "3                                                   10.6    ...   \n",
              "4                                                    7.5    ...   \n",
              "...                                                  ...    ...   \n",
              "17356                                               10.6    ...   \n",
              "17357                                                7.6    ...   \n",
              "17358                                                6.6    ...   \n",
              "17359                                                3.9    ...   \n",
              "17360                                                4.9    ...   \n",
              "\n",
              "       HEAD NORMAL COORDINATE Y AXIS(Stage3) Collect Result_Fill2  \\\n",
              "0                                                 1324.2            \n",
              "1                                                 1324.2            \n",
              "2                                                  428.0            \n",
              "3                                                 1324.2            \n",
              "4                                                  427.9            \n",
              "...                                                  ...            \n",
              "17356                                             1324.2            \n",
              "17357                                             1324.2            \n",
              "17358                                              427.9            \n",
              "17359                                              428.0            \n",
              "17360                                              428.0            \n",
              "\n",
              "       HEAD NORMAL COORDINATE Z AXIS(Stage1) Collect Result_Fill2  \\\n",
              "0                                                  243.5            \n",
              "1                                                 1324.2            \n",
              "2                                                  243.7            \n",
              "3                                                 1324.2            \n",
              "4                                                  428.0            \n",
              "...                                                  ...            \n",
              "17356                                             1324.2            \n",
              "17357                                             1324.2            \n",
              "17358                                              428.0            \n",
              "17359                                              243.7            \n",
              "17360                                              243.7            \n",
              "\n",
              "       HEAD NORMAL COORDINATE Z AXIS(Stage2) Collect Result_Fill2  \\\n",
              "0                                                  243.5            \n",
              "1                                                  243.5            \n",
              "2                                                  243.7            \n",
              "3                                                  243.5            \n",
              "4                                                  243.7            \n",
              "...                                                  ...            \n",
              "17356                                              243.5            \n",
              "17357                                              243.5            \n",
              "17358                                              243.7            \n",
              "17359                                              243.7            \n",
              "17360                                              243.7            \n",
              "\n",
              "       Head Purge Position X Collect Result_Fill2  \\\n",
              "0                                           270.0   \n",
              "1                                            91.8   \n",
              "2                                           270.0   \n",
              "3                                            91.8   \n",
              "4                                            91.8   \n",
              "...                                           ...   \n",
              "17356                                        91.8   \n",
              "17357                                        91.8   \n",
              "17358                                        91.8   \n",
              "17359                                       270.0   \n",
              "17360                                       270.0   \n",
              "\n",
              "      Head Purge Position Z Collect Result_Fill2  \\\n",
              "0                                             85   \n",
              "1                                             50   \n",
              "2                                             85   \n",
              "3                                             50   \n",
              "4                                             50   \n",
              "...                                          ...   \n",
              "17356                                         50   \n",
              "17357                                         50   \n",
              "17358                                         50   \n",
              "17359                                         85   \n",
              "17360                                         85   \n",
              "\n",
              "      Machine Tact time Collect Result_Fill2  PalletID Collect Result_Fill2  \\\n",
              "0                                       19.8                           13.0   \n",
              "1                                       85.0                           19.8   \n",
              "2                                       19.7                            1.0   \n",
              "3                                       85.0                           20.0   \n",
              "4                                       85.0                           19.8   \n",
              "...                                      ...                            ...   \n",
              "17356                                   85.0                           19.5   \n",
              "17357                                   85.0                           19.8   \n",
              "17358                                   85.0                           20.5   \n",
              "17359                                   18.9                            1.0   \n",
              "17360                                   19.3                            2.0   \n",
              "\n",
              "       Production Qty Collect Result_Fill2  Receip No Collect Result_Fill2  \\\n",
              "0                                      195                               1   \n",
              "1                                       14                             256   \n",
              "2                                       98                               1   \n",
              "3                                       14                               0   \n",
              "4                                        1                             215   \n",
              "...                                    ...                             ...   \n",
              "17356                                   14                             131   \n",
              "17357                                   12                             279   \n",
              "17358                                    4                              66   \n",
              "17359                                  117                               1   \n",
              "17360                                   71                               1   \n",
              "\n",
              "       WorkMode Collect Result_Fill2  \n",
              "0                                  0  \n",
              "1                                  1  \n",
              "2                                  0  \n",
              "3                                  1  \n",
              "4                                  1  \n",
              "...                              ...  \n",
              "17356                              1  \n",
              "17357                              1  \n",
              "17358                              1  \n",
              "17359                              0  \n",
              "17360                              0  \n",
              "\n",
              "[17361 rows x 106 columns]"
            ]
          },
          "execution_count": 26,
          "metadata": {},
          "output_type": "execute_result"
        }
      ],
      "source": [
        "test"
      ]
    },
    {
      "cell_type": "markdown",
      "id": "ebeaabc1",
      "metadata": {
        "id": "ebeaabc1"
      },
      "source": [
        "### 피쳐엔지니어링"
      ]
    },
    {
      "cell_type": "code",
      "execution_count": null,
      "id": "43bb7b62",
      "metadata": {
        "id": "43bb7b62"
      },
      "outputs": [],
      "source": [
        "# 불쾌지수 계산 공식 함수\n",
        "def calculate_discomfort_index(temperature, humidity):\n",
        "    return 0.81 * temperature + 0.01 * humidity * (0.99 * temperature - 14.3) + 46.3"
      ]
    },
    {
      "cell_type": "code",
      "execution_count": null,
      "id": "25923fdc",
      "metadata": {
        "id": "25923fdc"
      },
      "outputs": [],
      "source": [
        "train['Collect Date_Fill2'] = pd.to_datetime(train['Collect Date_Fill2'])\n",
        "df_hand['day'] = pd.to_datetime(df_hand['day'], format='%y%m%d')\n",
        "\n",
        "df_hand['start_time'] = pd.to_datetime(df_hand['day'].astype(str) + ' ' + df_hand['start_time'].astype(str), format='%Y-%m-%d %H:%M:%S')\n",
        "df_hand['end_time'] = pd.to_datetime(df_hand['day'].astype(str) + ' ' + df_hand['end_time'].astype(str), format='%Y-%m-%d %H:%M:%S')"
      ]
    },
    {
      "cell_type": "code",
      "execution_count": null,
      "id": "7d538c8e",
      "metadata": {
        "id": "7d538c8e"
      },
      "outputs": [],
      "source": [
        "# train_data의 각 row에 대해 df_hand의 시간 범위와 비교하여 매칭된 행 병합\n",
        "def match_time(row, df_hand):\n",
        "    collect_time = row['Collect Date_Fill2']\n",
        "\n",
        "    # 해당 collect_time이 df_hand의 start_time과 end_time 사이에 있는 행\n",
        "    mask = (df_hand['start_time'] <= collect_time) & (df_hand['end_time'] >= collect_time)\n",
        "\n",
        "    # 매칭된 행이 있으면 해당 행을 반환, 없으면 결측치 반환\n",
        "    if mask.any():\n",
        "        return df_hand[mask].iloc[0]  # 첫 번째 매칭된 행 반환\n",
        "    else:\n",
        "        return pd.Series([None] * len(df_hand.columns), index=df_hand.columns)  # 결측치 반환\n",
        "\n",
        "# train_data의 각 행에 대해 df_hand에서 매칭되는 행 추가\n",
        "df_hand_matched = train.apply(lambda row: match_time(row, df_hand), axis=1)\n",
        "\n",
        "# train_data와 df_hand_matched를 병합\n",
        "train = pd.concat([train.reset_index(drop=True), df_hand_matched.reset_index(drop=True)], axis=1)\n"
      ]
    },
    {
      "cell_type": "code",
      "execution_count": null,
      "id": "740adf6c",
      "metadata": {
        "id": "740adf6c"
      },
      "outputs": [],
      "source": [
        "train['discomfort_index'] = train.apply(lambda row: calculate_discomfort_index(\n",
        "    row['Line Temp. - Every break time'],\n",
        "    row['Line humidity - Every break time']), axis=1)"
      ]
    },
    {
      "cell_type": "code",
      "execution_count": null,
      "id": "48f118d5",
      "metadata": {
        "id": "48f118d5"
      },
      "outputs": [],
      "source": [
        "train = train.drop('end_time', axis = 1)\n",
        "train = train.drop('start_time', axis = 1)\n",
        "train = train.drop('day', axis = 1)\n",
        "# train = train.drop('Line Temp. - Every break time', axis = 1)\n",
        "# train = train.drop('Line humidity - Every break time', axis = 1)\n"
      ]
    },
    {
      "cell_type": "code",
      "execution_count": null,
      "id": "76148d1e",
      "metadata": {
        "id": "76148d1e"
      },
      "outputs": [],
      "source": [
        "test['Collect Date_Fill2'] = pd.to_datetime(test['Collect Date_Fill2'])\n",
        "# df_hand['day'] = pd.to_datetime(df_hand['day'], format='%y%m%d')\n",
        "\n",
        "# df_hand['start_time'] = pd.to_datetime(df_hand['day'].astype(str) + ' ' + df_hand['start_time'].astype(str), format='%Y-%m-%d %H:%M:%S')\n",
        "# df_hand['end_time'] = pd.to_datetime(df_hand['day'].astype(str) + ' ' + df_hand['end_time'].astype(str), format='%Y-%m-%d %H:%M:%S')"
      ]
    },
    {
      "cell_type": "code",
      "execution_count": null,
      "id": "054b744c",
      "metadata": {
        "id": "054b744c"
      },
      "outputs": [],
      "source": [
        "# train_data의 각 row에 대해 df_hand의 시간 범위와 비교하여 매칭된 행 병합\n",
        "def match_time(row, df_hand):\n",
        "    collect_time = row['Collect Date_Fill2']\n",
        "\n",
        "    # 해당 collect_time이 df_hand의 start_time과 end_time 사이에 있는 행\n",
        "    mask = (df_hand['start_time'] <= collect_time) & (df_hand['end_time'] >= collect_time)\n",
        "\n",
        "    # 매칭된 행이 있으면 해당 행을 반환, 없으면 결측치 반환\n",
        "    if mask.any():\n",
        "        return df_hand[mask].iloc[0]  # 첫 번째 매칭된 행 반환\n",
        "    else:\n",
        "        return pd.Series([None] * len(df_hand.columns), index=df_hand.columns)  # 결측치 반환\n",
        "\n",
        "# train_data의 각 행에 대해 df_hand에서 매칭되는 행 추가\n",
        "df_hand_matched = test.apply(lambda row: match_time(row, df_hand), axis=1)\n",
        "\n",
        "# train_data와 df_hand_matched를 병합\n",
        "test = pd.concat([test.reset_index(drop=True), df_hand_matched.reset_index(drop=True)], axis=1)\n"
      ]
    },
    {
      "cell_type": "code",
      "execution_count": null,
      "id": "507be8f7",
      "metadata": {
        "id": "507be8f7"
      },
      "outputs": [],
      "source": [
        "test['discomfort_index'] = test.apply(lambda row: calculate_discomfort_index(\n",
        "    row['Line Temp. - Every break time'],\n",
        "    row['Line humidity - Every break time']), axis=1)"
      ]
    },
    {
      "cell_type": "code",
      "execution_count": null,
      "id": "4dfab292",
      "metadata": {
        "id": "4dfab292"
      },
      "outputs": [],
      "source": [
        "test = test.drop('end_time', axis = 1)\n",
        "test = test.drop('start_time', axis = 1)\n",
        "test = test.drop('day', axis = 1)\n",
        "# test = test.drop('Line Temp. - Every break time', axis = 1)\n",
        "# test = test.drop('Line humidity - Every break time', axis = 1)"
      ]
    },
    {
      "cell_type": "code",
      "execution_count": null,
      "id": "e664aa33",
      "metadata": {
        "id": "e664aa33"
      },
      "outputs": [],
      "source": [
        "# 시간 정보를 처리할 열 목록\n",
        "time_columns = ['Collect Date_Dam', 'Collect Date_Fill1', 'Collect Date_Fill2', 'Collect Date_AutoClave']\n",
        "\n",
        "# train 데이터에서 각 열에 대해 년, 월, 일, 시간, 분 정보 추출 후 원본 열 삭제\n",
        "for col in time_columns:\n",
        "    train[col] = pd.to_datetime(train[col])\n",
        "    train[f'{col}_Year'] = train[col].dt.year\n",
        "    train[f'{col}_Month'] = train[col].dt.month\n",
        "    train[f'{col}_Day'] = train[col].dt.day\n",
        "    train[f'{col}_Hour'] = train[col].dt.hour\n",
        "    train[f'{col}_Minute'] = train[col].dt.minute\n",
        "\n",
        "# 원래 있던 시간 정보 열 삭제\n",
        "train.drop(columns=time_columns, inplace=True)\n",
        "\n",
        "# test 데이터에서도 동일한 작업 수행\n",
        "for col in time_columns:\n",
        "    test[col] = pd.to_datetime(test[col])\n",
        "    test[f'{col}_Year'] = test[col].dt.year\n",
        "    test[f'{col}_Month'] = test[col].dt.month\n",
        "    test[f'{col}_Day'] = test[col].dt.day\n",
        "    test[f'{col}_Hour'] = test[col].dt.hour\n",
        "    test[f'{col}_Minute'] = test[col].dt.minute\n",
        "\n",
        "# 원래 있던 시간 정보 열 삭제\n",
        "test.drop(columns=time_columns, inplace=True)"
      ]
    },
    {
      "cell_type": "code",
      "execution_count": null,
      "id": "4885636c",
      "metadata": {
        "id": "4885636c"
      },
      "outputs": [],
      "source": [
        "# '-'를 기준으로 앞부분과 뒷부분을 분리\n",
        "train['workorder'] = train['Workorder_Dam'].apply(lambda x: x.split('-')[0])\n",
        "train['workorder_num'] = train['Workorder_Dam'].apply(lambda x: x.split('-')[-1])\n",
        "\n",
        "test['workorder'] = test['Workorder_Dam'].apply(lambda x: x.split('-')[0])\n",
        "test['workorder_num'] = test['Workorder_Dam'].apply(lambda x: x.split('-')[-1])"
      ]
    },
    {
      "cell_type": "code",
      "execution_count": null,
      "id": "7b70b5af",
      "metadata": {
        "id": "7b70b5af"
      },
      "outputs": [],
      "source": [
        "train['1st Pressure'] = train['1st Pressure 1st Pressure Unit Time_AutoClave'] / train['1st Pressure Collect Result_AutoClave']\n",
        "train['2nd Pressure'] = train['2nd Pressure Unit Time_AutoClave'] / train['2nd Pressure Collect Result_AutoClave']\n",
        "train['3rd Pressure'] = train['3rd Pressure Unit Time_AutoClave'] / train['3rd Pressure Collect Result_AutoClave']\n",
        "train['Chamber Temp AutoClave'] = train['Chamber Temp. Unit Time_AutoClave'] / train['Chamber Temp. Collect Result_AutoClave']\n",
        "\n",
        "test['1st Pressure'] = test['1st Pressure 1st Pressure Unit Time_AutoClave'] / test['1st Pressure Collect Result_AutoClave']\n",
        "test['2nd Pressure'] = test['2nd Pressure Unit Time_AutoClave'] / test['2nd Pressure Collect Result_AutoClave']\n",
        "test['3rd Pressure'] = test['3rd Pressure Unit Time_AutoClave'] / test['3rd Pressure Collect Result_AutoClave']\n",
        "test['Chamber Temp AutoClave'] = test['Chamber Temp. Unit Time_AutoClave'] / test['Chamber Temp. Collect Result_AutoClave']"
      ]
    },
    {
      "cell_type": "code",
      "execution_count": null,
      "id": "7f6f9c39",
      "metadata": {
        "id": "7f6f9c39"
      },
      "outputs": [],
      "source": [
        "train['DISCHARGED DISTANCE(Stage1) OF RESIN Collect Result_Fill1'] = train['DISCHARGED SPEED OF RESIN Collect Result_Fill1'] * train['DISCHARGED TIME OF RESIN(Stage1) Collect Result_Fill1']\n",
        "train['DISCHARGED DISTANCE(Stage2) OF RESIN Collect Result_Fill1'] = train['DISCHARGED SPEED OF RESIN Collect Result_Fill1'] * train['DISCHARGED TIME OF RESIN(Stage2) Collect Result_Fill1']\n",
        "train['DISCHARGED DISTANCE(Stage3) OF RESIN Collect Result_Fill1'] = train['DISCHARGED SPEED OF RESIN Collect Result_Fill1'] * train['DISCHARGED TIME OF RESIN(Stage3) Collect Result_Fill1']\n",
        "\n",
        "test['DISCHARGED DISTANCE(Stage1) OF RESIN Collect Result_Fill1'] = test['DISCHARGED SPEED OF RESIN Collect Result_Fill1'] * test['DISCHARGED TIME OF RESIN(Stage1) Collect Result_Fill1']\n",
        "test['DISCHARGED DISTANCE(Stage2) OF RESIN Collect Result_Fill1'] = test['DISCHARGED SPEED OF RESIN Collect Result_Fill1'] * test['DISCHARGED TIME OF RESIN(Stage2) Collect Result_Fill1']\n",
        "test['DISCHARGED DISTANCE(Stage3) OF RESIN Collect Result_Fill1'] = test['DISCHARGED SPEED OF RESIN Collect Result_Fill1'] * test['DISCHARGED TIME OF RESIN(Stage3) Collect Result_Fill1']"
      ]
    },
    {
      "cell_type": "code",
      "execution_count": null,
      "id": "f02aac23",
      "metadata": {
        "id": "f02aac23"
      },
      "outputs": [],
      "source": [
        "train['Total Dispense Volume Collect Result_Fill1'] = train['Dispense Volume(Stage1) Collect Result_Fill1'] + train['Dispense Volume(Stage2) Collect Result_Fill1'] + train['Dispense Volume(Stage3) Collect Result_Fill1']\n",
        "\n",
        "test['Total Dispense Volume Collect Result_Fill1'] = test['Dispense Volume(Stage1) Collect Result_Fill1'] + test['Dispense Volume(Stage2) Collect Result_Fill1'] + test['Dispense Volume(Stage3) Collect Result_Fill1']"
      ]
    },
    {
      "cell_type": "code",
      "execution_count": null,
      "id": "e36559da",
      "metadata": {
        "id": "e36559da"
      },
      "outputs": [],
      "source": [
        "train['Total Process Time'] = train['Machine Tact time Collect Result_Dam'] + train['Machine Tact time Collect Result_Fill1'] + train['Machine Tact time Collect Result_Fill2']\n",
        "\n",
        "test['Total Process Time'] = test['Machine Tact time Collect Result_Dam'] + test['Machine Tact time Collect Result_Fill1'] + test['Machine Tact time Collect Result_Fill2']"
      ]
    },
    {
      "cell_type": "code",
      "execution_count": null,
      "id": "7ad30ecd",
      "metadata": {
        "id": "7ad30ecd"
      },
      "outputs": [],
      "source": [
        "# 두 열의 값을 더해서 새로운 열을 생성\n",
        "train['Stage1 Circle Result'] = train['Stage1 Circle2 Distance Speed Collect Result_Dam'] + train['Stage1 Circle1 Distance Speed Collect Result_Dam']\n",
        "\n",
        "# 동일한 작업을 test 데이터셋에 적용\n",
        "test['Stage1 Circle Result'] = test['Stage1 Circle2 Distance Speed Collect Result_Dam'] + test['Stage1 Circle1 Distance Speed Collect Result_Dam']"
      ]
    },
    {
      "cell_type": "code",
      "execution_count": null,
      "id": "fff76b9c",
      "metadata": {
        "id": "fff76b9c"
      },
      "outputs": [],
      "source": [
        "# train 데이터셋에서 두 열의 값을 더하여 새로운 열을 생성\n",
        "train['Stage2 Circle Result'] = train['Stage2 Circle2 Distance Speed Collect Result_Dam'] + train['Stage2 Circle1 Distance Speed Collect Result_Dam']\n",
        "\n",
        "# test 데이터셋에서 동일한 작업 수행\n",
        "test['Stage2 Circle Result'] = test['Stage2 Circle2 Distance Speed Collect Result_Dam'] + test['Stage2 Circle1 Distance Speed Collect Result_Dam']"
      ]
    },
    {
      "cell_type": "code",
      "execution_count": null,
      "id": "58c4d38c",
      "metadata": {
        "id": "58c4d38c"
      },
      "outputs": [],
      "source": [
        "# train 데이터셋에서 두 열의 값을 더하여 새로운 열을 생성\n",
        "train['Stage3 Circle Result'] = train['Stage3 Circle2 Distance Speed Collect Result_Dam'] + train['Stage3 Circle1 Distance Speed Collect Result_Dam']\n",
        "\n",
        "# test 데이터셋에서 동일한 작업 수행\n",
        "test['Stage3 Circle Result'] = test['Stage3 Circle2 Distance Speed Collect Result_Dam'] + test['Stage3 Circle1 Distance Speed Collect Result_Dam']"
      ]
    },
    {
      "cell_type": "code",
      "execution_count": null,
      "id": "43815236",
      "metadata": {
        "id": "43815236"
      },
      "outputs": [],
      "source": [
        "train['Total Production'] = train['Production Qty Collect Result_Dam'] + train['Production Qty Collect Result_Fill1'] + train['Production Qty Collect Result_Fill2']\n",
        "\n",
        "test['Total Production'] = test['Production Qty Collect Result_Dam'] + test['Production Qty Collect Result_Fill1'] + test['Production Qty Collect Result_Fill2']"
      ]
    },
    {
      "cell_type": "code",
      "execution_count": null,
      "id": "7b3303d6",
      "metadata": {
        "id": "7b3303d6"
      },
      "outputs": [],
      "source": [
        "train['Workorder_Dam_Middle'] = train['Workorder_Dam'].str.slice(3, 5)\n",
        "\n",
        "test['Workorder_Dam_Middle'] = test['Workorder_Dam'].str.slice(3, 5)"
      ]
    },
    {
      "cell_type": "code",
      "execution_count": null,
      "id": "b0ce746e",
      "metadata": {
        "id": "b0ce746e"
      },
      "outputs": [],
      "source": [
        "train['Workorder_Dam_First'] = train['Workorder_Dam'].str.slice(0, 2)\n",
        "\n",
        "test['Workorder_Dam_First'] = test['Workorder_Dam'].str.slice(0, 2)"
      ]
    },
    {
      "cell_type": "code",
      "execution_count": null,
      "id": "13a513e7",
      "metadata": {
        "id": "13a513e7"
      },
      "outputs": [],
      "source": [
        "# 변경할 열들의 리스트\n",
        "columns_to_replace = [\n",
        "    'HEAD NORMAL COORDINATE X AXIS(Stage1) Collect Result_Dam',\n",
        "    'HEAD NORMAL COORDINATE X AXIS(Stage1) Judge Value_Dam',\n",
        "    'HEAD NORMAL COORDINATE X AXIS(Stage1) Collect Result_Fill1',\n",
        "    'HEAD NORMAL COORDINATE X AXIS(Stage1) Collect Result_Fill2'\n",
        "]\n",
        "\n",
        "# 각 열의 문자 값을 0으로 변경\n",
        "train[columns_to_replace] = train[columns_to_replace].applymap(lambda x: 0 if isinstance(x, str) else x)\n",
        "test[columns_to_replace] = test[columns_to_replace].applymap(lambda x: 0 if isinstance(x, str) else x)"
      ]
    },
    {
      "cell_type": "code",
      "execution_count": null,
      "id": "05daa6d4",
      "metadata": {
        "id": "05daa6d4"
      },
      "outputs": [],
      "source": [
        "train.drop(['workorder'], axis=1, inplace=True)\n",
        "\n",
        "test.drop(['workorder'], axis=1, inplace=True)"
      ]
    },
    {
      "cell_type": "code",
      "execution_count": null,
      "id": "10d89c10",
      "metadata": {
        "id": "10d89c10"
      },
      "outputs": [],
      "source": [
        "# 두 열의 값을 더해서 새로운 열을 생성\n",
        "train['Stage1 Line Result'] = train['Stage1 Line2 Distance Speed Collect Result_Dam'] + train['Stage1 Line1 Distance Speed Collect Result_Dam']\n",
        "\n",
        "# 동일한 작업을 test 데이터셋에 적용\n",
        "test['Stage1 Line Result'] = test['Stage1 Line2 Distance Speed Collect Result_Dam'] + test['Stage1 Line1 Distance Speed Collect Result_Dam']"
      ]
    },
    {
      "cell_type": "code",
      "execution_count": null,
      "id": "b054c00c",
      "metadata": {
        "id": "b054c00c"
      },
      "outputs": [],
      "source": [
        "# 두 열의 값을 더해서 새로운 열을 생성\n",
        "train['Stage2 Line Result'] = train['Stage2 Line2 Distance Speed Collect Result_Dam'] + train['Stage2 Line3 Distance Speed Collect Result_Dam'] + train['Stage2 Line4 Distance Speed Collect Result_Dam']\n",
        "\n",
        "# 동일한 작업을 test 데이터셋에 적용\n",
        "test['Stage2 Line Result'] = test['Stage2 Line2 Distance Speed Collect Result_Dam'] + test['Stage2 Line3 Distance Speed Collect Result_Dam'] + train['Stage2 Line4 Distance Speed Collect Result_Dam']"
      ]
    },
    {
      "cell_type": "code",
      "execution_count": null,
      "id": "2895b0dd",
      "metadata": {
        "id": "2895b0dd"
      },
      "outputs": [],
      "source": [
        "# 두 열의 값을 더해서 새로운 열을 생성\n",
        "train['Stage3 Line Result'] = train['Stage3 Line2 Distance Speed Collect Result_Dam'] + train['Stage3 Line1 Distance Speed Collect Result_Dam'] + train['Stage3 Line4 Distance Speed Collect Result_Dam']\n",
        "\n",
        "# 동일한 작업을 test 데이터셋에 적용\n",
        "test['Stage3 Line Result'] = test['Stage3 Line2 Distance Speed Collect Result_Dam'] + test['Stage3 Line1 Distance Speed Collect Result_Dam'] + train['Stage3 Line4 Distance Speed Collect Result_Dam']"
      ]
    },
    {
      "cell_type": "code",
      "execution_count": null,
      "id": "91a44bd0",
      "metadata": {
        "id": "91a44bd0"
      },
      "outputs": [],
      "source": [
        "train['DISCHARGED DISTANCE(Stage1) OF RESIN Collect Result_Dam'] = train['DISCHARGED SPEED OF RESIN Collect Result_Dam'] * train['DISCHARGED TIME OF RESIN(Stage1) Collect Result_Dam']\n",
        "train['DISCHARGED DISTANCE(Stage2) OF RESIN Collect Result_Dam'] = train['DISCHARGED SPEED OF RESIN Collect Result_Dam'] * train['DISCHARGED TIME OF RESIN(Stage2) Collect Result_Dam']\n",
        "train['DISCHARGED DISTANCE(Stage3) OF RESIN Collect Result_Dam'] = train['DISCHARGED SPEED OF RESIN Collect Result_Dam'] * train['DISCHARGED TIME OF RESIN(Stage3) Collect Result_Dam']\n",
        "\n",
        "test['DISCHARGED DISTANCE(Stage1) OF RESIN Collect Result_Dam'] = test['DISCHARGED SPEED OF RESIN Collect Result_Dam'] * test['DISCHARGED TIME OF RESIN(Stage1) Collect Result_Dam']\n",
        "test['DISCHARGED DISTANCE(Stage2) OF RESIN Collect Result_Dam'] = test['DISCHARGED SPEED OF RESIN Collect Result_Dam'] * test['DISCHARGED TIME OF RESIN(Stage2) Collect Result_Dam']\n",
        "test['DISCHARGED DISTANCE(Stage3) OF RESIN Collect Result_Dam'] = test['DISCHARGED SPEED OF RESIN Collect Result_Dam'] * test['DISCHARGED TIME OF RESIN(Stage3) Collect Result_Dam']"
      ]
    },
    {
      "cell_type": "code",
      "execution_count": null,
      "id": "308eba19",
      "metadata": {
        "id": "308eba19"
      },
      "outputs": [],
      "source": [
        "# 기존 코드 유지\n",
        "categorical_feat = train.columns.tolist()\n",
        "len(categorical_feat)\n",
        "\n",
        "categorical_feat.remove('target')\n",
        "\n",
        "train[categorical_feat] = train[categorical_feat].astype('str')\n",
        "test[categorical_feat] = test[categorical_feat].astype('str')\n",
        "\n",
        "# cat_cols를 인덱스 대신 열 이름으로 설정\n",
        "cat_cols = categorical_feat"
      ]
    },
    {
      "cell_type": "code",
      "execution_count": null,
      "id": "cb97c8de",
      "metadata": {
        "id": "cb97c8de"
      },
      "outputs": [],
      "source": [
        "train[categorical_feat] = train[categorical_feat].astype('str')\n",
        "test[categorical_feat] = test[categorical_feat].astype('str')"
      ]
    },
    {
      "cell_type": "code",
      "execution_count": null,
      "id": "d13e18ce",
      "metadata": {
        "id": "d13e18ce"
      },
      "outputs": [],
      "source": [
        "# cat_cols를 인덱스 대신 열 이름으로 설정\n",
        "cat_cols = categorical_feat"
      ]
    },
    {
      "cell_type": "code",
      "execution_count": null,
      "id": "3e752354",
      "metadata": {
        "id": "3e752354"
      },
      "outputs": [],
      "source": [
        "train['target'] = train['target'].replace({'Normal': 0, 'AbNormal': 1})"
      ]
    },
    {
      "cell_type": "code",
      "execution_count": null,
      "id": "fe65fea8",
      "metadata": {
        "id": "fe65fea8"
      },
      "outputs": [],
      "source": [
        "stratify_columns = train[[\"target\", \"Workorder_Dam_Middle\"]]"
      ]
    },
    {
      "cell_type": "code",
      "execution_count": null,
      "id": "35c08cc8",
      "metadata": {
        "id": "35c08cc8"
      },
      "outputs": [],
      "source": [
        "# 데이터를 stratified split\n",
        "x_trn, x_val = train_test_split(\n",
        "    train, test_size=0.2, random_state=42, stratify=stratify_columns)"
      ]
    },
    {
      "cell_type": "code",
      "execution_count": null,
      "id": "2424cfde",
      "metadata": {
        "id": "2424cfde"
      },
      "outputs": [],
      "source": [
        "y_trn = x_trn['target']\n",
        "x_trn = x_trn.drop(['target'], axis=1)\n",
        "\n",
        "y_val = x_val['target']\n",
        "x_val = x_val.drop(['target'], axis=1)"
      ]
    },
    {
      "cell_type": "code",
      "execution_count": null,
      "id": "3358c858",
      "metadata": {
        "id": "3358c858"
      },
      "outputs": [],
      "source": [
        "train2 = train.copy()\n",
        "test2 = test.copy()"
      ]
    },
    {
      "cell_type": "markdown",
      "id": "bf898d15",
      "metadata": {
        "id": "bf898d15"
      },
      "source": [
        "### Data_2"
      ]
    },
    {
      "cell_type": "code",
      "execution_count": null,
      "id": "5f6eddc6",
      "metadata": {
        "id": "5f6eddc6"
      },
      "outputs": [],
      "source": [
        "# Load data\n",
        "train = pd.read_csv(os.path.join(ROOT_DIR, \"train.csv\"))\n",
        "test = pd.read_csv(os.path.join(ROOT_DIR, \"test.csv\"))\n",
        "submission = pd.read_csv(os.path.join(\"submission.csv\"))"
      ]
    },
    {
      "cell_type": "code",
      "execution_count": null,
      "id": "113432a3",
      "metadata": {
        "id": "113432a3"
      },
      "outputs": [],
      "source": [
        "drop_cols = []\n",
        "for i in range(len(train.columns)):\n",
        "    if len(train.iloc[:, i].unique()) == 1:\n",
        "        drop_cols.append(train.columns[i])\n",
        "train = train.drop(drop_cols, axis=1)"
      ]
    },
    {
      "cell_type": "code",
      "execution_count": null,
      "id": "9f9113ba",
      "metadata": {
        "id": "9f9113ba"
      },
      "outputs": [],
      "source": [
        "drop_cols = []\n",
        "for column in train.columns:\n",
        "  if (train[column].notnull().sum() // 5) < train[\n",
        "      column].isnull().sum():\n",
        "      drop_cols.append(column)\n",
        "train[drop_cols] = train[drop_cols].fillna(0)\n",
        "train = train"
      ]
    },
    {
      "cell_type": "code",
      "execution_count": null,
      "id": "f6b4efa8",
      "metadata": {
        "id": "f6b4efa8"
      },
      "outputs": [],
      "source": [
        "real_train = train.T.drop_duplicates().T\n",
        "common_columns = real_train.columns.intersection(train.columns)\n",
        "real_train = real_train.astype(train[common_columns].dtypes)\n",
        "real_train.info()"
      ]
    },
    {
      "cell_type": "code",
      "execution_count": null,
      "id": "6dd37e95",
      "metadata": {
        "id": "6dd37e95"
      },
      "outputs": [],
      "source": [
        "train = real_train"
      ]
    },
    {
      "cell_type": "code",
      "execution_count": null,
      "id": "3a17e33a",
      "metadata": {
        "id": "3a17e33a"
      },
      "outputs": [],
      "source": [
        "test = test[train.columns]"
      ]
    },
    {
      "cell_type": "code",
      "execution_count": null,
      "id": "b00d55b1",
      "metadata": {
        "id": "b00d55b1"
      },
      "outputs": [],
      "source": [
        "# 'CURE END POSITION'이라는 문자열이 포함된 열들의 목록 가져오기\n",
        "cure_end_position_cols = [col for col in train.columns if 'CURE END POSITION' in col]\n",
        "\n",
        "# 새로운 'CURE END POSITION' 열의 위치 찾기\n",
        "cols = list(train.columns)\n",
        "cure_end_position_idx = next((i for i, col in enumerate(cols) if 'CURE END POSITION' in col), None)\n",
        "\n",
        "# 해당 위치에 새로운 'CURE END POSITION' 열 추가\n",
        "if cure_end_position_idx is not None:\n",
        "    train.insert(cure_end_position_idx, 'CURE END POSITION', train[cure_end_position_cols].sum(axis=1))\n",
        "else:\n",
        "    train['CURE END POSITION'] = train[cure_end_position_cols].sum(axis=1)\n",
        "\n",
        "# 기존 'CURE END POSITION' 관련 열들 삭제\n",
        "train = train.drop(cure_end_position_cols, axis=1)"
      ]
    },
    {
      "cell_type": "code",
      "execution_count": null,
      "id": "fba1745a",
      "metadata": {
        "id": "fba1745a"
      },
      "outputs": [],
      "source": [
        "# 'CURE END POSITION'이라는 문자열이 포함된 열들의 목록 가져오기\n",
        "cure_end_position_cols = [col for col in train.columns if 'HEAD Standby Position' in col]\n",
        "\n",
        "\n",
        "# 새로운 'HEAD Standby Position' 열의 위치 찾기\n",
        "cols = list(train.columns)\n",
        "cure_end_position_idx = next((i for i, col in enumerate(cols) if 'HEAD Standby Position' in col), None)\n",
        "\n",
        "# 해당 위치에 새로운 'HEAD Standby Position' 열 추가\n",
        "if cure_end_position_idx is not None:\n",
        "    train.insert(cure_end_position_idx, 'HEAD Standby Position', train[cure_end_position_cols].sum(axis=1))\n",
        "else:\n",
        "    train['HEAD Standby Position'] = train[cure_end_position_cols].sum(axis=1)\n",
        "\n",
        "# 기존 'HEAD Standby Position' 관련 열들 삭제\n",
        "train = train.drop(cure_end_position_cols, axis=1)"
      ]
    },
    {
      "cell_type": "code",
      "execution_count": null,
      "id": "48603042",
      "metadata": {
        "id": "48603042"
      },
      "outputs": [],
      "source": [
        "# 'Head Clean Position'이라는 문자열이 포함된 열들의 목록 가져오기\n",
        "cure_end_position_cols = [col for col in train.columns if 'Head Clean Position' in col]\n",
        "\n",
        "# 새로운 'Head Clean Position' 열의 위치 찾기\n",
        "cols = list(train.columns)\n",
        "cure_end_position_idx = next((i for i, col in enumerate(cols) if 'Head Clean Position' in col), None)\n",
        "\n",
        "# 해당 위치에 새로운 'Head Clean Position' 열 추가\n",
        "if cure_end_position_idx is not None:\n",
        "    train.insert(cure_end_position_idx, 'Head Clean Position', train[cure_end_position_cols].sum(axis=1))\n",
        "else:\n",
        "    train['Head Clean Position'] = train[cure_end_position_cols].sum(axis=1)\n",
        "\n",
        "# 기존 'Head Clean Position' 관련 열들 삭제\n",
        "train = train.drop(cure_end_position_cols, axis=1)"
      ]
    },
    {
      "cell_type": "code",
      "execution_count": null,
      "id": "3e3287a8",
      "metadata": {
        "id": "3e3287a8"
      },
      "outputs": [],
      "source": [
        "cure_end_position_cols = [col for col in train.columns if 'CURE START POSITION' in col]\n",
        "\n",
        "# 새로운 'CURE START POSITION' 열의 위치 찾기\n",
        "cols = list(train.columns)\n",
        "cure_end_position_idx = next((i for i, col in enumerate(cols) if 'CURE START POSITION' in col), None)\n",
        "\n",
        "# 해당 위치에 새로운 'CURE START POSITION' 열 추가\n",
        "if cure_end_position_idx is not None:\n",
        "    train.insert(cure_end_position_idx, 'CURE START POSITION', train[cure_end_position_cols].sum(axis=1))\n",
        "else:\n",
        "    train['CURE START POSITION'] = train[cure_end_position_cols].sum(axis=1)\n",
        "\n",
        "# 기존 'CURE START POSITION' 관련 열들 삭제\n",
        "train = train.drop(cure_end_position_cols, axis=1)"
      ]
    },
    {
      "cell_type": "code",
      "execution_count": null,
      "id": "31ae7989",
      "metadata": {
        "id": "31ae7989"
      },
      "outputs": [],
      "source": [
        "cure_end_position_cols = [col for col in train.columns if 'CURE SPEED Collect' in col]\n",
        "\n",
        "\n",
        "# 새로운 'CURE SPEED Collect' 열의 위치 찾기\n",
        "cols = list(train.columns)\n",
        "cure_end_position_idx = next((i for i, col in enumerate(cols) if 'CURE SPEED Collect' in col), None)\n",
        "\n",
        "# 해당 위치에 새로운 'CURE SPEED Collect' 열 추가\n",
        "if cure_end_position_idx is not None:\n",
        "    train.insert(cure_end_position_idx, 'CURE SPEED Collect', train[cure_end_position_cols].sum(axis=1))\n",
        "else:\n",
        "    train['CURE SPEED Collect'] = train[cure_end_position_cols].sum(axis=1)\n",
        "\n",
        "# 기존 'CURE SPEED Collect' 관련 열들 삭제\n",
        "train = train.drop(cure_end_position_cols, axis=1)"
      ]
    },
    {
      "cell_type": "markdown",
      "id": "53da20f8",
      "metadata": {
        "id": "53da20f8"
      },
      "source": [
        "### Test"
      ]
    },
    {
      "cell_type": "code",
      "execution_count": null,
      "id": "45f9b527",
      "metadata": {
        "id": "45f9b527"
      },
      "outputs": [],
      "source": [
        "drop_cols = []\n",
        "for i in range(len(test.columns)):\n",
        "    if len(test.iloc[:,i].unique()) == 1:\n",
        "        drop_cols.append(test.columns[i])\n",
        "test = test.drop(drop_cols, axis=1)"
      ]
    },
    {
      "cell_type": "code",
      "execution_count": null,
      "id": "913033c6",
      "metadata": {
        "id": "913033c6"
      },
      "outputs": [],
      "source": [
        "# Drop columns with more than half of the values missing\n",
        "drop_cols = []\n",
        "for column in test.columns:\n",
        "    if (test[column].notnull().sum() // 5) < test[\n",
        "        column\n",
        "    ].isnull().sum():\n",
        "        drop_cols.append(column)\n",
        "\n",
        "test[drop_cols] = test[drop_cols].fillna(0)\n",
        "\n",
        "test = test"
      ]
    },
    {
      "cell_type": "code",
      "execution_count": null,
      "id": "837d2884",
      "metadata": {
        "id": "837d2884"
      },
      "outputs": [],
      "source": [
        "# 불쾌지수 계산 공식 함수\n",
        "def calculate_discomfort_index(temperature, humidity):\n",
        "    return 0.81 * temperature + 0.01 * humidity * (0.99 * temperature - 14.3) + 46.3"
      ]
    },
    {
      "cell_type": "code",
      "execution_count": null,
      "id": "6933018e",
      "metadata": {
        "id": "6933018e"
      },
      "outputs": [],
      "source": [
        "train['Collect Date_Fill2'] = pd.to_datetime(train['Collect Date_Fill2'])\n",
        "# df_hand['day'] = pd.to_datetime(df_hand['day'], format='%y%m%d')\n",
        "\n",
        "# df_hand['start_time'] = pd.to_datetime(df_hand['day'].astype(str) + ' ' + df_hand['start_time'].astype(str), format='%Y-%m-%d %H:%M:%S')\n",
        "# df_hand['end_time'] = pd.to_datetime(df_hand['day'].astype(str) + ' ' + df_hand['end_time'].astype(str), format='%Y-%m-%d %H:%M:%S')"
      ]
    },
    {
      "cell_type": "code",
      "execution_count": null,
      "id": "1fed1af7",
      "metadata": {
        "id": "1fed1af7"
      },
      "outputs": [],
      "source": [
        "# train_data의 각 row에 대해 df_hand의 시간 범위와 비교하여 매칭된 행 병합\n",
        "def match_time(row, df_hand):\n",
        "    collect_time = row['Collect Date_Fill2']\n",
        "\n",
        "    # 해당 collect_time이 df_hand의 start_time과 end_time 사이에 있는 행\n",
        "    mask = (df_hand['start_time'] <= collect_time) & (df_hand['end_time'] >= collect_time)\n",
        "\n",
        "    # 매칭된 행이 있으면 해당 행을 반환, 없으면 결측치 반환\n",
        "    if mask.any():\n",
        "        return df_hand[mask].iloc[0]  # 첫 번째 매칭된 행 반환\n",
        "    else:\n",
        "        return pd.Series([None] * len(df_hand.columns), index=df_hand.columns)  # 결측치 반환\n",
        "\n",
        "# train_data의 각 행에 대해 df_hand에서 매칭되는 행 추가\n",
        "df_hand_matched = train.apply(lambda row: match_time(row, df_hand), axis=1)\n",
        "\n",
        "# train_data와 df_hand_matched를 병합\n",
        "train = pd.concat([train.reset_index(drop=True), df_hand_matched.reset_index(drop=True)], axis=1)\n"
      ]
    },
    {
      "cell_type": "code",
      "execution_count": null,
      "id": "a8c23545",
      "metadata": {
        "id": "a8c23545"
      },
      "outputs": [],
      "source": [
        "train['discomfort_index'] = train.apply(lambda row: calculate_discomfort_index(\n",
        "    row['Line Temp. - Every break time'],\n",
        "    row['Line humidity - Every break time']), axis=1)"
      ]
    },
    {
      "cell_type": "code",
      "execution_count": null,
      "id": "c56e6075",
      "metadata": {
        "id": "c56e6075"
      },
      "outputs": [],
      "source": [
        "train = train.drop('end_time', axis = 1)\n",
        "train = train.drop('start_time', axis = 1)\n",
        "train = train.drop('day', axis = 1)\n",
        "# train = train.drop('Line Temp. - Every break time', axis = 1)\n",
        "# train = train.drop('Line humidity - Every break time', axis = 1)"
      ]
    },
    {
      "cell_type": "code",
      "execution_count": null,
      "id": "642d1545",
      "metadata": {
        "id": "642d1545"
      },
      "outputs": [],
      "source": [
        "test['Collect Date_Fill2'] = pd.to_datetime(test['Collect Date_Fill2'])\n",
        "# df_hand['day'] = pd.to_datetime(df_hand['day'], format='%y%m%d')\n",
        "\n",
        "# df_hand['start_time'] = pd.to_datetime(df_hand['day'].astype(str) + ' ' + df_hand['start_time'].astype(str), format='%Y-%m-%d %H:%M:%S')\n",
        "# df_hand['end_time'] = pd.to_datetime(df_hand['day'].astype(str) + ' ' + df_hand['end_time'].astype(str), format='%Y-%m-%d %H:%M:%S')"
      ]
    },
    {
      "cell_type": "code",
      "execution_count": null,
      "id": "5fb47e69",
      "metadata": {
        "id": "5fb47e69"
      },
      "outputs": [],
      "source": [
        "# train_data의 각 row에 대해 df_hand의 시간 범위와 비교하여 매칭된 행 병합\n",
        "def match_time(row, df_hand):\n",
        "    collect_time = row['Collect Date_Fill2']\n",
        "\n",
        "    # 해당 collect_time이 df_hand의 start_time과 end_time 사이에 있는 행\n",
        "    mask = (df_hand['start_time'] <= collect_time) & (df_hand['end_time'] >= collect_time)\n",
        "\n",
        "    # 매칭된 행이 있으면 해당 행을 반환, 없으면 결측치 반환\n",
        "    if mask.any():\n",
        "        return df_hand[mask].iloc[0]  # 첫 번째 매칭된 행 반환\n",
        "    else:\n",
        "        return pd.Series([None] * len(df_hand.columns), index=df_hand.columns)  # 결측치 반환\n",
        "\n",
        "# train_data의 각 행에 대해 df_hand에서 매칭되는 행 추가\n",
        "df_hand_matched = test.apply(lambda row: match_time(row, df_hand), axis=1)\n",
        "\n",
        "# train_data와 df_hand_matched를 병합\n",
        "test = pd.concat([test.reset_index(drop=True), df_hand_matched.reset_index(drop=True)], axis=1)\n"
      ]
    },
    {
      "cell_type": "code",
      "execution_count": null,
      "id": "30236076",
      "metadata": {
        "id": "30236076"
      },
      "outputs": [],
      "source": [
        "test['discomfort_index'] = test.apply(lambda row: calculate_discomfort_index(\n",
        "    row['Line Temp. - Every break time'],\n",
        "    row['Line humidity - Every break time']), axis=1)"
      ]
    },
    {
      "cell_type": "code",
      "execution_count": null,
      "id": "2931e0d9",
      "metadata": {
        "id": "2931e0d9"
      },
      "outputs": [],
      "source": [
        "test = test.drop('end_time', axis = 1)\n",
        "test = test.drop('start_time', axis = 1)\n",
        "test = test.drop('day', axis = 1)\n",
        "# test = test.drop('Line Temp. - Every break time', axis = 1)\n",
        "# test = test.drop('Line humidity - Every break time', axis = 1)"
      ]
    },
    {
      "cell_type": "code",
      "execution_count": null,
      "id": "fdaff750",
      "metadata": {
        "id": "fdaff750"
      },
      "outputs": [],
      "source": []
    },
    {
      "cell_type": "code",
      "execution_count": null,
      "id": "8b237353",
      "metadata": {
        "id": "8b237353"
      },
      "outputs": [],
      "source": [
        "# 시간 정보를 처리할 열 목록\n",
        "time_columns = ['Collect Date_Dam', 'Collect Date_Fill1', 'Collect Date_Fill2', 'Collect Date_AutoClave']\n",
        "\n",
        "# train 데이터에서 각 열에 대해 년, 월, 일, 시간, 분 정보 추출 후 원본 열 삭제\n",
        "for col in time_columns:\n",
        "    train[col] = pd.to_datetime(train[col])\n",
        "    train[f'{col}_Year'] = train[col].dt.year\n",
        "    train[f'{col}_Month'] = train[col].dt.month\n",
        "    train[f'{col}_Day'] = train[col].dt.day\n",
        "    train[f'{col}_Hour'] = train[col].dt.hour\n",
        "    train[f'{col}_Minute'] = train[col].dt.minute\n",
        "\n",
        "# 원래 있던 시간 정보 열 삭제\n",
        "train.drop(columns=time_columns, inplace=True)\n",
        "\n",
        "# test 데이터에서도 동일한 작업 수행\n",
        "for col in time_columns:\n",
        "    test[col] = pd.to_datetime(test[col])\n",
        "    test[f'{col}_Year'] = test[col].dt.year\n",
        "    test[f'{col}_Month'] = test[col].dt.month\n",
        "    test[f'{col}_Day'] = test[col].dt.day\n",
        "    test[f'{col}_Hour'] = test[col].dt.hour\n",
        "    test[f'{col}_Minute'] = test[col].dt.minute\n",
        "\n",
        "# 원래 있던 시간 정보 열 삭제\n",
        "test.drop(columns=time_columns, inplace=True)"
      ]
    },
    {
      "cell_type": "code",
      "execution_count": null,
      "id": "208466fd",
      "metadata": {
        "id": "208466fd"
      },
      "outputs": [],
      "source": [
        "# 'CURE END POSITION'이라는 문자열이 포함된 열들의 목록 가져오기\n",
        "cure_end_position_cols = [col for col in test.columns if 'CURE END POSITION' in col]\n",
        "\n",
        "# 새로운 'CURE END POSITION' 열의 위치 찾기\n",
        "cols = list(test.columns)\n",
        "cure_end_position_idx = next((i for i, col in enumerate(cols) if 'CURE END POSITION' in col), None)\n",
        "\n",
        "# 해당 위치에 새로운 'CURE END POSITION' 열 추가\n",
        "if cure_end_position_idx is not None:\n",
        "    test.insert(cure_end_position_idx, 'CURE END POSITION', test[cure_end_position_cols].sum(axis=1))\n",
        "else:\n",
        "    test['CURE END POSITION'] = test[cure_end_position_cols].sum(axis=1)\n",
        "\n",
        "# 기존 'CURE END POSITION' 관련 열들 삭제\n",
        "test = test.drop(cure_end_position_cols, axis=1)"
      ]
    },
    {
      "cell_type": "code",
      "execution_count": null,
      "id": "6134adac",
      "metadata": {
        "id": "6134adac"
      },
      "outputs": [],
      "source": [
        "# 'CURE END POSITION'이라는 문자열이 포함된 열들의 목록 가져오기\n",
        "cure_end_position_cols = [col for col in test.columns if 'HEAD Standby Position' in col]\n",
        "\n",
        "\n",
        "# 새로운 'HEAD Standby Position' 열의 위치 찾기\n",
        "cols = list(test.columns)\n",
        "cure_end_position_idx = next((i for i, col in enumerate(cols) if 'HEAD Standby Position' in col), None)\n",
        "\n",
        "# 해당 위치에 새로운 'HEAD Standby Position' 열 추가\n",
        "if cure_end_position_idx is not None:\n",
        "    test.insert(cure_end_position_idx, 'HEAD Standby Position', test[cure_end_position_cols].sum(axis=1))\n",
        "else:\n",
        "    test['HEAD Standby Position'] = test[cure_end_position_cols].sum(axis=1)\n",
        "\n",
        "# 기존 'HEAD Standby Position' 관련 열들 삭제\n",
        "test = test.drop(cure_end_position_cols, axis=1)"
      ]
    },
    {
      "cell_type": "code",
      "execution_count": null,
      "id": "31c187fc",
      "metadata": {
        "id": "31c187fc"
      },
      "outputs": [],
      "source": [
        "# 'Head Clean Position'이라는 문자열이 포함된 열들의 목록 가져오기\n",
        "cure_end_position_cols = [col for col in test.columns if 'Head Clean Position' in col]\n",
        "\n",
        "# 새로운 'Head Clean Position' 열의 위치 찾기\n",
        "cols = list(test.columns)\n",
        "cure_end_position_idx = next((i for i, col in enumerate(cols) if 'Head Clean Position' in col), None)\n",
        "\n",
        "# 해당 위치에 새로운 'Head Clean Position' 열 추가\n",
        "if cure_end_position_idx is not None:\n",
        "    test.insert(cure_end_position_idx, 'Head Clean Position', test[cure_end_position_cols].sum(axis=1))\n",
        "else:\n",
        "    test['Head Clean Position'] = test[cure_end_position_cols].sum(axis=1)\n",
        "\n",
        "# 기존 'Head Clean Position' 관련 열들 삭제\n",
        "test = test.drop(cure_end_position_cols, axis=1)"
      ]
    },
    {
      "cell_type": "code",
      "execution_count": null,
      "id": "6685273f",
      "metadata": {
        "id": "6685273f"
      },
      "outputs": [],
      "source": [
        "cure_end_position_cols = [col for col in test.columns if 'CURE START POSITION' in col]\n",
        "\n",
        "# 새로운 'CURE START POSITION' 열의 위치 찾기\n",
        "cols = list(test.columns)\n",
        "cure_end_position_idx = next((i for i, col in enumerate(cols) if 'CURE START POSITION' in col), None)\n",
        "\n",
        "# 해당 위치에 새로운 'CURE START POSITION' 열 추가\n",
        "if cure_end_position_idx is not None:\n",
        "    test.insert(cure_end_position_idx, 'CURE START POSITION', test[cure_end_position_cols].sum(axis=1))\n",
        "else:\n",
        "    test['CURE START POSITION'] = test[cure_end_position_cols].sum(axis=1)\n",
        "\n",
        "# 기존 'CURE START POSITION' 관련 열들 삭제\n",
        "test = test.drop(cure_end_position_cols, axis=1)"
      ]
    },
    {
      "cell_type": "code",
      "execution_count": null,
      "id": "afd41400",
      "metadata": {
        "id": "afd41400"
      },
      "outputs": [],
      "source": [
        "cure_end_position_cols = [col for col in test.columns if 'CURE SPEED Collect' in col]\n",
        "\n",
        "\n",
        "# 새로운 'CURE SPEED Collect' 열의 위치 찾기\n",
        "cols = list(test.columns)\n",
        "cure_end_position_idx = next((i for i, col in enumerate(cols) if 'CURE SPEED Collect' in col), None)\n",
        "\n",
        "# 해당 위치에 새로운 'CURE SPEED Collect' 열 추가\n",
        "if cure_end_position_idx is not None:\n",
        "    test.insert(cure_end_position_idx, 'CURE SPEED Collect', test[cure_end_position_cols].sum(axis=1))\n",
        "else:\n",
        "    test['CURE SPEED Collect'] = test[cure_end_position_cols].sum(axis=1)\n",
        "\n",
        "# 기존 'CURE SPEED Collect' 관련 열들 삭제\n",
        "test = test.drop(cure_end_position_cols, axis=1)"
      ]
    },
    {
      "cell_type": "code",
      "execution_count": null,
      "id": "18d4adf8",
      "metadata": {
        "id": "18d4adf8"
      },
      "outputs": [],
      "source": [
        "# '-'를 기준으로 앞부분과 뒷부분을 분리\n",
        "train['workorder'] = train['Workorder_Dam'].apply(lambda x: x.split('-')[0])\n",
        "train['workorder_num'] = train['Workorder_Dam'].apply(lambda x: x.split('-')[-1])\n",
        "\n",
        "test['workorder'] = test['Workorder_Dam'].apply(lambda x: x.split('-')[0])\n",
        "test['workorder_num'] = test['Workorder_Dam'].apply(lambda x: x.split('-')[-1])"
      ]
    },
    {
      "cell_type": "code",
      "execution_count": null,
      "id": "03d179cf",
      "metadata": {
        "id": "03d179cf"
      },
      "outputs": [],
      "source": [
        "train['1st Pressure'] = train['1st Pressure 1st Pressure Unit Time_AutoClave'] / train['1st Pressure Collect Result_AutoClave']\n",
        "train['2nd Pressure'] = train['2nd Pressure Unit Time_AutoClave'] / train['2nd Pressure Collect Result_AutoClave']\n",
        "train['3rd Pressure'] = train['3rd Pressure Unit Time_AutoClave'] / train['3rd Pressure Collect Result_AutoClave']\n",
        "train['Chamber Temp AutoClave'] = train['Chamber Temp. Unit Time_AutoClave'] / train['Chamber Temp. Collect Result_AutoClave']\n",
        "\n",
        "test['1st Pressure'] = test['1st Pressure 1st Pressure Unit Time_AutoClave'] / test['1st Pressure Collect Result_AutoClave']\n",
        "test['2nd Pressure'] = test['2nd Pressure Unit Time_AutoClave'] / test['2nd Pressure Collect Result_AutoClave']\n",
        "test['3rd Pressure'] = test['3rd Pressure Unit Time_AutoClave'] / test['3rd Pressure Collect Result_AutoClave']\n",
        "test['Chamber Temp AutoClave'] = test['Chamber Temp. Unit Time_AutoClave'] / test['Chamber Temp. Collect Result_AutoClave']"
      ]
    },
    {
      "cell_type": "code",
      "execution_count": null,
      "id": "83c562ad",
      "metadata": {
        "id": "83c562ad"
      },
      "outputs": [],
      "source": [
        "train['DISCHARGED DISTANCE(Stage1) OF RESIN Collect Result_Fill1'] = train['DISCHARGED SPEED OF RESIN Collect Result_Fill1'] * train['DISCHARGED TIME OF RESIN(Stage1) Collect Result_Fill1']\n",
        "train['DISCHARGED DISTANCE(Stage2) OF RESIN Collect Result_Fill1'] = train['DISCHARGED SPEED OF RESIN Collect Result_Fill1'] * train['DISCHARGED TIME OF RESIN(Stage2) Collect Result_Fill1']\n",
        "train['DISCHARGED DISTANCE(Stage3) OF RESIN Collect Result_Fill1'] = train['DISCHARGED SPEED OF RESIN Collect Result_Fill1'] * train['DISCHARGED TIME OF RESIN(Stage3) Collect Result_Fill1']\n",
        "\n",
        "test['DISCHARGED DISTANCE(Stage1) OF RESIN Collect Result_Fill1'] = test['DISCHARGED SPEED OF RESIN Collect Result_Fill1'] * test['DISCHARGED TIME OF RESIN(Stage1) Collect Result_Fill1']\n",
        "test['DISCHARGED DISTANCE(Stage2) OF RESIN Collect Result_Fill1'] = test['DISCHARGED SPEED OF RESIN Collect Result_Fill1'] * test['DISCHARGED TIME OF RESIN(Stage2) Collect Result_Fill1']\n",
        "test['DISCHARGED DISTANCE(Stage3) OF RESIN Collect Result_Fill1'] = test['DISCHARGED SPEED OF RESIN Collect Result_Fill1'] * test['DISCHARGED TIME OF RESIN(Stage3) Collect Result_Fill1']"
      ]
    },
    {
      "cell_type": "code",
      "execution_count": null,
      "id": "27908bbd",
      "metadata": {
        "id": "27908bbd"
      },
      "outputs": [],
      "source": [
        "train['Total Dispense Volume Collect Result_Fill1'] = train['Dispense Volume(Stage1) Collect Result_Fill1'] + train['Dispense Volume(Stage2) Collect Result_Fill1'] + train['Dispense Volume(Stage3) Collect Result_Fill1']\n",
        "\n",
        "test['Total Dispense Volume Collect Result_Fill1'] = test['Dispense Volume(Stage1) Collect Result_Fill1'] + test['Dispense Volume(Stage2) Collect Result_Fill1'] + test['Dispense Volume(Stage3) Collect Result_Fill1']"
      ]
    },
    {
      "cell_type": "code",
      "execution_count": null,
      "id": "050ca731",
      "metadata": {
        "id": "050ca731"
      },
      "outputs": [],
      "source": [
        "train['Total Process Time'] = train['Machine Tact time Collect Result_Dam'] + train['Machine Tact time Collect Result_Fill1'] + train['Machine Tact time Collect Result_Fill2']\n",
        "\n",
        "test['Total Process Time'] = test['Machine Tact time Collect Result_Dam'] + test['Machine Tact time Collect Result_Fill1'] + test['Machine Tact time Collect Result_Fill2']"
      ]
    },
    {
      "cell_type": "code",
      "execution_count": null,
      "id": "04f31033",
      "metadata": {
        "id": "04f31033"
      },
      "outputs": [],
      "source": [
        "# 두 열의 값을 더해서 새로운 열을 생성\n",
        "train['Stage1 Circle Result'] = train['Stage1 Circle2 Distance Speed Collect Result_Dam'] + train['Stage1 Circle1 Distance Speed Collect Result_Dam']\n",
        "\n",
        "# 동일한 작업을 test 데이터셋에 적용\n",
        "test['Stage1 Circle Result'] = test['Stage1 Circle2 Distance Speed Collect Result_Dam'] + test['Stage1 Circle1 Distance Speed Collect Result_Dam']"
      ]
    },
    {
      "cell_type": "code",
      "execution_count": null,
      "id": "3f952863",
      "metadata": {
        "id": "3f952863"
      },
      "outputs": [],
      "source": [
        "# train 데이터셋에서 두 열의 값을 더하여 새로운 열을 생성\n",
        "train['Stage2 Circle Result'] = train['Stage2 Circle2 Distance Speed Collect Result_Dam'] + train['Stage2 Circle1 Distance Speed Collect Result_Dam']\n",
        "\n",
        "# test 데이터셋에서 동일한 작업 수행\n",
        "test['Stage2 Circle Result'] = test['Stage2 Circle2 Distance Speed Collect Result_Dam'] + test['Stage2 Circle1 Distance Speed Collect Result_Dam']"
      ]
    },
    {
      "cell_type": "code",
      "execution_count": null,
      "id": "177fc10d",
      "metadata": {
        "id": "177fc10d"
      },
      "outputs": [],
      "source": [
        "# train 데이터셋에서 두 열의 값을 더하여 새로운 열을 생성\n",
        "train['Stage3 Circle Result'] = train['Stage3 Circle2 Distance Speed Collect Result_Dam'] + train['Stage3 Circle1 Distance Speed Collect Result_Dam']\n",
        "\n",
        "# test 데이터셋에서 동일한 작업 수행\n",
        "test['Stage3 Circle Result'] = test['Stage3 Circle2 Distance Speed Collect Result_Dam'] + test['Stage3 Circle1 Distance Speed Collect Result_Dam']"
      ]
    },
    {
      "cell_type": "code",
      "execution_count": null,
      "id": "0ea4b440",
      "metadata": {
        "id": "0ea4b440"
      },
      "outputs": [],
      "source": [
        "train['Total Production'] = train['Production Qty Collect Result_Dam'] + train['Production Qty Collect Result_Fill1'] + train['Production Qty Collect Result_Fill2']\n",
        "\n",
        "test['Total Production'] = test['Production Qty Collect Result_Dam'] + test['Production Qty Collect Result_Fill1'] + test['Production Qty Collect Result_Fill2']"
      ]
    },
    {
      "cell_type": "code",
      "execution_count": null,
      "id": "939ed233",
      "metadata": {
        "id": "939ed233"
      },
      "outputs": [],
      "source": [
        "train['Workorder_Dam_Middle'] = train['Workorder_Dam'].str.slice(3, 5)\n",
        "\n",
        "test['Workorder_Dam_Middle'] = test['Workorder_Dam'].str.slice(3, 5)"
      ]
    },
    {
      "cell_type": "code",
      "execution_count": null,
      "id": "93ffb185",
      "metadata": {
        "id": "93ffb185"
      },
      "outputs": [],
      "source": [
        "train['Workorder_Dam_First'] = train['Workorder_Dam'].str.slice(0, 2)\n",
        "\n",
        "test['Workorder_Dam_First'] = test['Workorder_Dam'].str.slice(0, 2)"
      ]
    },
    {
      "cell_type": "code",
      "execution_count": null,
      "id": "7f31f3d1",
      "metadata": {
        "id": "7f31f3d1"
      },
      "outputs": [],
      "source": [
        "# 변경할 열들의 리스트\n",
        "columns_to_replace = [\n",
        "    'HEAD NORMAL COORDINATE X AXIS(Stage1) Collect Result_Dam',\n",
        "    'HEAD NORMAL COORDINATE X AXIS(Stage1) Judge Value_Dam',\n",
        "    'HEAD NORMAL COORDINATE X AXIS(Stage1) Collect Result_Fill1',\n",
        "    'HEAD NORMAL COORDINATE X AXIS(Stage1) Collect Result_Fill2'\n",
        "]\n",
        "\n",
        "# 각 열의 문자 값을 0으로 변경\n",
        "train[columns_to_replace] = train[columns_to_replace].applymap(lambda x: 0 if isinstance(x, str) else x)\n",
        "test[columns_to_replace] = test[columns_to_replace].applymap(lambda x: 0 if isinstance(x, str) else x)"
      ]
    },
    {
      "cell_type": "code",
      "execution_count": null,
      "id": "11d03f13",
      "metadata": {
        "id": "11d03f13"
      },
      "outputs": [],
      "source": [
        "train.drop(['Stage1 Line1 Distance Speed Collect Result_Dam', 'Stage1 Line2 Distance Speed Collect Result_Dam'], axis=1, inplace=True)\n",
        "\n",
        "test.drop(['Stage1 Line1 Distance Speed Collect Result_Dam', 'Stage1 Line2 Distance Speed Collect Result_Dam'], axis=1, inplace=True)"
      ]
    },
    {
      "cell_type": "code",
      "execution_count": null,
      "id": "e35a5279",
      "metadata": {
        "id": "e35a5279"
      },
      "outputs": [],
      "source": [
        "train.drop(['Stage2 Line2 Distance Speed Collect Result_Dam', 'Stage2 Line3 Distance Speed Collect Result_Dam', 'Stage2 Line4 Distance Speed Collect Result_Dam'], axis=1, inplace=True)\n",
        "\n",
        "test.drop(['Stage2 Line2 Distance Speed Collect Result_Dam', 'Stage2 Line3 Distance Speed Collect Result_Dam', 'Stage2 Line4 Distance Speed Collect Result_Dam'], axis=1, inplace=True)"
      ]
    },
    {
      "cell_type": "code",
      "execution_count": null,
      "id": "5289dabc",
      "metadata": {
        "id": "5289dabc"
      },
      "outputs": [],
      "source": [
        "train.drop(['Stage3 Line1 Distance Speed Collect Result_Dam', 'Stage3 Line2 Distance Speed Collect Result_Dam', 'Stage3 Line4 Distance Speed Collect Result_Dam'], axis=1, inplace=True)\n",
        "\n",
        "test.drop(['Stage3 Line1 Distance Speed Collect Result_Dam', 'Stage3 Line2 Distance Speed Collect Result_Dam', 'Stage3 Line4 Distance Speed Collect Result_Dam'], axis=1, inplace=True)"
      ]
    },
    {
      "cell_type": "code",
      "execution_count": null,
      "id": "ea036ac6",
      "metadata": {
        "id": "ea036ac6"
      },
      "outputs": [],
      "source": [
        "train1 = train\n",
        "test1 = test"
      ]
    },
    {
      "cell_type": "markdown",
      "id": "20c2345f",
      "metadata": {
        "id": "20c2345f"
      },
      "source": [
        "### New 전처리"
      ]
    },
    {
      "cell_type": "code",
      "execution_count": null,
      "id": "ea56b848",
      "metadata": {
        "id": "ea56b848"
      },
      "outputs": [],
      "source": [
        "# 기존 코드 유지\n",
        "categorical_feat = train1.columns.tolist()\n",
        "len(categorical_feat)\n",
        "\n",
        "categorical_feat.remove('target')\n",
        "\n",
        "train1[categorical_feat] = train1[categorical_feat].astype('str')\n",
        "test1[categorical_feat] = test1[categorical_feat].astype('str')\n",
        "\n",
        "# cat_cols를 인덱스 대신 열 이름으로 설정\n",
        "cat_cols_1 = categorical_feat"
      ]
    },
    {
      "cell_type": "code",
      "execution_count": null,
      "id": "83e2af6d",
      "metadata": {
        "id": "83e2af6d"
      },
      "outputs": [],
      "source": [
        "train1[categorical_feat] = train1[categorical_feat].astype('str')\n",
        "test1[categorical_feat] = test1[categorical_feat].astype('str')"
      ]
    },
    {
      "cell_type": "code",
      "execution_count": null,
      "id": "af77ab1d",
      "metadata": {
        "id": "af77ab1d"
      },
      "outputs": [],
      "source": [
        "# cat_cols를 인덱스 대신 열 이름으로 설정\n",
        "cat_cols_1 = categorical_feat"
      ]
    },
    {
      "cell_type": "code",
      "execution_count": null,
      "id": "c0c104a4",
      "metadata": {
        "id": "c0c104a4"
      },
      "outputs": [],
      "source": [
        "train1['target'] = train1['target'].replace({'Normal': 0, 'AbNormal': 1})"
      ]
    },
    {
      "cell_type": "code",
      "execution_count": null,
      "id": "955cdf81",
      "metadata": {
        "id": "955cdf81"
      },
      "outputs": [],
      "source": [
        "stratify_columns = train1[[\"target\", \"Workorder_Dam_Middle\"]]"
      ]
    },
    {
      "cell_type": "code",
      "execution_count": null,
      "id": "e865f06c",
      "metadata": {
        "id": "e865f06c"
      },
      "outputs": [],
      "source": [
        "# 데이터를 stratified split\n",
        "x_trn_1, x_val_1 = train_test_split(\n",
        "    train1, test_size=0.2, random_state=42, stratify=stratify_columns)"
      ]
    },
    {
      "cell_type": "code",
      "execution_count": null,
      "id": "c4cd8263",
      "metadata": {
        "id": "c4cd8263"
      },
      "outputs": [],
      "source": [
        "y_trn_1 = x_trn_1['target']\n",
        "x_trn_1 = x_trn_1.drop(['target'], axis=1)\n",
        "\n",
        "y_val_1 = x_val_1['target']\n",
        "x_val_1 = x_val_1.drop(['target'], axis=1)"
      ]
    },
    {
      "cell_type": "markdown",
      "id": "79ecfa9b",
      "metadata": {
        "id": "79ecfa9b"
      },
      "source": [
        "## 3. 모델 학습\n",
        "* eval로 파라미터 찾기\n"
      ]
    },
    {
      "cell_type": "code",
      "execution_count": null,
      "id": "e4509af0",
      "metadata": {
        "id": "e4509af0"
      },
      "outputs": [],
      "source": [
        "# predict = np.zeros((len(x_val), 2))"
      ]
    },
    {
      "cell_type": "code",
      "execution_count": null,
      "id": "03fbee2e",
      "metadata": {
        "id": "03fbee2e"
      },
      "outputs": [],
      "source": [
        "# cat_model_1 = CatBoostClassifier(\n",
        "#     loss_function='Logloss',\n",
        "#     eval_metric='F1',\n",
        "#     iterations=3147,\n",
        "#     depth=5,\n",
        "#     l2_leaf_reg=7.35,\n",
        "#     min_data_in_leaf=7,\n",
        "#     scale_pos_weight=7.97,\n",
        "#     learning_rate= 0.01,\n",
        "#     random_seed=42,\n",
        "#     cat_features=cat_cols_1,\n",
        "#     early_stopping_rounds=10000,\n",
        "# )"
      ]
    },
    {
      "cell_type": "code",
      "execution_count": null,
      "id": "fa2f99f1",
      "metadata": {
        "scrolled": true,
        "id": "fa2f99f1"
      },
      "outputs": [],
      "source": [
        "# cat_model_1.fit(x_trn_1, y_trn_1,\n",
        "#     eval_set=(x_val_1, y_val_1), ## 3013\n",
        "#     verbose=100)"
      ]
    },
    {
      "cell_type": "code",
      "execution_count": null,
      "id": "cce7d0bd",
      "metadata": {
        "id": "cce7d0bd"
      },
      "outputs": [],
      "source": [
        "# pred = cat_model_1.predict_proba(x_val_1)[:, 1]\n",
        "# predict[:, 0] = pred"
      ]
    },
    {
      "cell_type": "code",
      "execution_count": null,
      "id": "cd58c56d",
      "metadata": {
        "id": "cd58c56d"
      },
      "outputs": [],
      "source": [
        "# result = cat_model_1.predict(x_val_1)"
      ]
    },
    {
      "cell_type": "code",
      "execution_count": null,
      "id": "50de3772",
      "metadata": {
        "id": "50de3772"
      },
      "outputs": [],
      "source": [
        "# f1_val = f1_score(y_val_1, result, pos_label= 1)\n",
        "# print('F1_val:', f1_val)"
      ]
    },
    {
      "cell_type": "code",
      "execution_count": null,
      "id": "263615ee",
      "metadata": {
        "id": "263615ee"
      },
      "outputs": [],
      "source": [
        "# cat_model = CatBoostClassifier(\n",
        "#     loss_function='Logloss',\n",
        "#     eval_metric='F1',\n",
        "#     iterations=1832,\n",
        "#     depth=5,\n",
        "#     l2_leaf_reg=7.35,\n",
        "#     min_data_in_leaf=7,\n",
        "#     scale_pos_weight=7.97,\n",
        "#     learning_rate= 0.01,\n",
        "#     random_seed=42,\n",
        "#     cat_features=cat_cols,\n",
        "#     early_stopping_rounds=1000,\n",
        "# )"
      ]
    },
    {
      "cell_type": "code",
      "execution_count": null,
      "id": "8b1803e5",
      "metadata": {
        "id": "8b1803e5"
      },
      "outputs": [],
      "source": [
        "# cat_model.fit(x_trn, y_trn,\n",
        "#     eval_set=(x_val, y_val),\n",
        "#     verbose=100)"
      ]
    },
    {
      "cell_type": "code",
      "execution_count": null,
      "id": "6b67660b",
      "metadata": {
        "id": "6b67660b"
      },
      "outputs": [],
      "source": [
        "# pred = cat_model.predict_proba(x_val)[:, 1]\n",
        "# predict[:, 1] = pred"
      ]
    },
    {
      "cell_type": "code",
      "execution_count": null,
      "id": "217523ea",
      "metadata": {
        "id": "217523ea"
      },
      "outputs": [],
      "source": [
        "# weights = np.array([0.5, 0.5])\n",
        "\n",
        "# # weighted average 계산\n",
        "# weighted_avg = np.sum(predict * weights, axis=1)\n",
        "\n",
        "# print(weighted_avg)"
      ]
    },
    {
      "cell_type": "code",
      "execution_count": null,
      "id": "b502a707",
      "metadata": {
        "id": "b502a707"
      },
      "outputs": [],
      "source": [
        "# result = np.where(weighted_avg >= 0.5, 1, 0)\n",
        "# sum(result)"
      ]
    },
    {
      "cell_type": "markdown",
      "id": "cacd5ed8",
      "metadata": {
        "id": "cacd5ed8"
      },
      "source": [
        "### 모델 학습\n",
        "* 찾은 파라미터로 전체 데이터로 학습"
      ]
    },
    {
      "cell_type": "code",
      "execution_count": null,
      "id": "e7d3aff6",
      "metadata": {
        "id": "e7d3aff6"
      },
      "outputs": [],
      "source": [
        "cat_model_1 = CatBoostClassifier(\n",
        "    loss_function='Logloss',\n",
        "    eval_metric='F1',\n",
        "    iterations=3147,\n",
        "    depth=5,\n",
        "    l2_leaf_reg=7.35,\n",
        "    min_data_in_leaf=7,\n",
        "    scale_pos_weight=7.97,\n",
        "    learning_rate= 0.01,\n",
        "    random_seed=42,\n",
        "    cat_features=cat_cols_1,\n",
        "    early_stopping_rounds=10000,\n",
        ")"
      ]
    },
    {
      "cell_type": "code",
      "execution_count": null,
      "id": "b56402e1",
      "metadata": {
        "id": "b56402e1"
      },
      "outputs": [],
      "source": [
        "cat_model = CatBoostClassifier(\n",
        "    loss_function='Logloss',\n",
        "    eval_metric='F1',\n",
        "    iterations=1832,\n",
        "    depth=5,\n",
        "    l2_leaf_reg=7.35,\n",
        "    min_data_in_leaf=7,\n",
        "    scale_pos_weight=7.97,\n",
        "    learning_rate= 0.01,\n",
        "    random_seed=42,\n",
        "    cat_features=cat_cols,\n",
        "    early_stopping_rounds=1000,\n",
        ")"
      ]
    },
    {
      "cell_type": "code",
      "execution_count": null,
      "id": "133ce2ce",
      "metadata": {
        "scrolled": false,
        "id": "133ce2ce"
      },
      "outputs": [],
      "source": [
        "cat_model_1.fit(train1.drop(['target'], axis=1), train1['target'], verbose=500)"
      ]
    },
    {
      "cell_type": "code",
      "execution_count": null,
      "id": "491a674d",
      "metadata": {
        "id": "491a674d"
      },
      "outputs": [],
      "source": [
        "cat_model.fit(train2.drop(['target'], axis=1), train2['target'], verbose=500)"
      ]
    },
    {
      "cell_type": "code",
      "execution_count": null,
      "id": "fa2c6af2",
      "metadata": {
        "id": "fa2c6af2"
      },
      "outputs": [],
      "source": [
        "predict = np.zeros((len(test1), 2))"
      ]
    },
    {
      "cell_type": "code",
      "execution_count": null,
      "id": "5b18af67",
      "metadata": {
        "id": "5b18af67"
      },
      "outputs": [],
      "source": [
        "pred = cat_model_1.predict_proba(test1)[:, 1]\n",
        "predict[:, 0] = pred"
      ]
    },
    {
      "cell_type": "code",
      "execution_count": null,
      "id": "fcfeac92",
      "metadata": {
        "scrolled": true,
        "id": "fcfeac92"
      },
      "outputs": [],
      "source": [
        "pred = cat_model.predict_proba(test2)[:, 1]\n",
        "predict[:, 1] = pred"
      ]
    },
    {
      "cell_type": "code",
      "execution_count": null,
      "id": "ca5a34cd",
      "metadata": {
        "id": "ca5a34cd"
      },
      "outputs": [],
      "source": [
        "weights = np.array([0.5, 0.5])\n",
        "\n",
        "# weighted average 계산\n",
        "weighted_avg = np.sum(predict * weights, axis=1)\n",
        "\n",
        "print(weighted_avg)"
      ]
    },
    {
      "cell_type": "code",
      "execution_count": null,
      "id": "17057734",
      "metadata": {
        "id": "17057734"
      },
      "outputs": [],
      "source": [
        "result = np.where(weighted_avg >= 0.5, 1, 0)\n",
        "sum(result)"
      ]
    },
    {
      "cell_type": "code",
      "execution_count": null,
      "id": "42868719",
      "metadata": {
        "scrolled": true,
        "id": "42868719"
      },
      "outputs": [],
      "source": [
        "result = cat_model_1.predict(test1)\n",
        "result"
      ]
    },
    {
      "cell_type": "code",
      "execution_count": null,
      "id": "e76b7222",
      "metadata": {
        "id": "e76b7222"
      },
      "outputs": [],
      "source": [
        "result = cat_model.predict(test2)\n",
        "result"
      ]
    },
    {
      "cell_type": "code",
      "execution_count": null,
      "id": "f338ad11",
      "metadata": {
        "scrolled": true,
        "id": "f338ad11"
      },
      "outputs": [],
      "source": [
        "from sklearn.model_selection import KFold\n",
        "\n",
        "# K-fold 설정\n",
        "kf = KFold(n_splits=5, shuffle=True, random_state=42)\n",
        "\n",
        "# 각 폴드별 최적 threshold를 저장할 리스트\n",
        "thresholds = []\n",
        "\n",
        "# K-fold 학습 및 threshold 계산\n",
        "for train_idx, val_idx in kf.split(train1):\n",
        "    X_train, X_val = train1.drop(['target'], axis=1).iloc[train_idx], train1.drop(['target'], axis=1).iloc[val_idx]\n",
        "    y_train, y_val = train1['target'].iloc[train_idx], train1['target'].iloc[val_idx]\n",
        "\n",
        "    # 예측 (확률값)\n",
        "    y_pred_prob = cat_model_1.predict_proba(X_val)[:, 1]\n",
        "\n",
        "    # 여러 threshold에 대해 f1 score 계산\n",
        "    best_threshold = 0.5\n",
        "    best_f1 = 0\n",
        "    for threshold in np.arange(0.1, 1.0, 0.01):\n",
        "        y_pred = (y_pred_prob >= threshold).astype(int)\n",
        "        f1 = f1_score(y_val, y_pred)\n",
        "        if f1 > best_f1:\n",
        "            best_f1 = f1\n",
        "            best_threshold = threshold\n",
        "\n",
        "    # 각 폴드의 최적 threshold 저장\n",
        "    thresholds.append(best_threshold)\n",
        "\n",
        "# 각 폴드의 최적 threshold의 평균 계산\n",
        "thresholds"
      ]
    },
    {
      "cell_type": "code",
      "execution_count": null,
      "id": "2953ea2d",
      "metadata": {
        "scrolled": true,
        "id": "2953ea2d"
      },
      "outputs": [],
      "source": [
        "mt = np.mean(thresholds)\n",
        "mt"
      ]
    },
    {
      "cell_type": "code",
      "execution_count": null,
      "id": "d38883ba",
      "metadata": {
        "scrolled": true,
        "id": "d38883ba"
      },
      "outputs": [],
      "source": [
        "pred = cat_model_1.predict_proba(test1)[:, 1]"
      ]
    },
    {
      "cell_type": "code",
      "execution_count": null,
      "id": "6e992cf9",
      "metadata": {
        "id": "6e992cf9"
      },
      "outputs": [],
      "source": [
        "result = np.where(pred >= mt, 1, 0)\n",
        "sum(result)"
      ]
    },
    {
      "cell_type": "code",
      "execution_count": null,
      "id": "e9dc1107",
      "metadata": {
        "id": "e9dc1107"
      },
      "outputs": [],
      "source": [
        "result = np.where(pred >= 0.53, 1, 0)\n",
        "sum(result)"
      ]
    },
    {
      "cell_type": "code",
      "execution_count": null,
      "id": "b95cbc8a",
      "metadata": {
        "scrolled": false,
        "id": "b95cbc8a"
      },
      "outputs": [],
      "source": [
        "submission['target'] = result\n",
        "submission"
      ]
    },
    {
      "cell_type": "code",
      "execution_count": null,
      "id": "b06a4fcd",
      "metadata": {
        "id": "b06a4fcd"
      },
      "outputs": [],
      "source": [
        "submission['target'].replace({1: 'AbNormal', 0:'Normal'}, inplace=True)\n",
        "submission['target'].value_counts()"
      ]
    },
    {
      "cell_type": "code",
      "execution_count": null,
      "id": "6390a377",
      "metadata": {
        "scrolled": true,
        "id": "6390a377"
      },
      "outputs": [],
      "source": [
        "# 첫 번째 조건을 정의합니다\n",
        "condition1 = (\n",
        "    (test['Production Qty Collect Result_Dam'] != test['Production Qty Collect Result_Fill1']) |\n",
        "    (test['Production Qty Collect Result_Fill1'] != test['Production Qty Collect Result_Fill2']) |\n",
        "    (test['Production Qty Collect Result_Dam'] != test['Production Qty Collect Result_Fill2'])\n",
        ")\n",
        "\n",
        "# 두 번째 조건을 정의합니다\n",
        "condition2 = (\n",
        "    (test['Receip No Collect Result_Dam'] != test['Receip No Collect Result_Fill1']) |\n",
        "    (test['Receip No Collect Result_Fill1'] != test['Receip No Collect Result_Fill2']) |\n",
        "    (test['Receip No Collect Result_Dam'] != test['Receip No Collect Result_Fill2'])\n",
        ")\n",
        "\n",
        "# 두 조건을 합칩니다\n",
        "combined_condition = condition1 | condition2\n",
        "\n",
        "# test 데이터프레임에서 조건에 해당하는 행의 'target' 열 값을 'AbNormal'로 변경합니다\n",
        "test.loc[combined_condition, 'target'] = 'AbNormal'\n",
        "\n",
        "# 조건에 해당하는 행의 인덱스를 가져옵니다\n",
        "abnormal_indices = test[combined_condition].index\n",
        "\n",
        "# df_sub 데이터프레임에서 해당 인덱스의 'target' 열 값을 'AbNormal'로 변경합니다\n",
        "# 'Set ID'를 인덱스로 사용한다고 가정합니다. 만약 다른 열을 사용한다면 이 부분을 수정해야 합니다.\n",
        "submission.loc[submission.index.isin(abnormal_indices), 'target'] = 'AbNormal'\n",
        "\n",
        "# 결과 확인\n",
        "submission['target'].value_counts()"
      ]
    },
    {
      "cell_type": "code",
      "execution_count": null,
      "id": "a1e986f6",
      "metadata": {
        "id": "a1e986f6"
      },
      "outputs": [],
      "source": [
        "submission.to_csv('submission.csv', index=False)"
      ]
    }
  ],
  "metadata": {
    "kernelspec": {
      "display_name": "Python 3 (ipykernel)",
      "language": "python",
      "name": "python3"
    },
    "language_info": {
      "codemirror_mode": {
        "name": "ipython",
        "version": 3
      },
      "file_extension": ".py",
      "mimetype": "text/x-python",
      "name": "python",
      "nbconvert_exporter": "python",
      "pygments_lexer": "ipython3",
      "version": "3.10.14"
    },
    "colab": {
      "provenance": []
    }
  },
  "nbformat": 4,
  "nbformat_minor": 5
}